{
 "cells": [
  {
   "cell_type": "code",
   "execution_count": 1,
   "metadata": {},
   "outputs": [],
   "source": [
    "import pandas as pd\n",
    "import numpy as np\n",
    "import os\n",
    "import sys\n",
    "import seaborn as sns\n",
    "from matplotlib import pyplot as plt"
   ]
  },
  {
   "cell_type": "code",
   "execution_count": 2,
   "metadata": {
    "scrolled": true
   },
   "outputs": [
    {
     "name": "stderr",
     "output_type": "stream",
     "text": [
      "/Users/shuchengyan/anaconda3/lib/python3.6/site-packages/IPython/core/interactiveshell.py:2785: DtypeWarning: Columns (3) have mixed types. Specify dtype option on import or set low_memory=False.\n",
      "  interactivity=interactivity, compiler=compiler, result=result)\n"
     ]
    }
   ],
   "source": [
    "df = pd.read_csv('data.csv')\n"
   ]
  },
  {
   "cell_type": "code",
   "execution_count": 3,
   "metadata": {},
   "outputs": [
    {
     "data": {
      "text/html": [
       "<div>\n",
       "<style scoped>\n",
       "    .dataframe tbody tr th:only-of-type {\n",
       "        vertical-align: middle;\n",
       "    }\n",
       "\n",
       "    .dataframe tbody tr th {\n",
       "        vertical-align: top;\n",
       "    }\n",
       "\n",
       "    .dataframe thead th {\n",
       "        text-align: right;\n",
       "    }\n",
       "</style>\n",
       "<table border=\"1\" class=\"dataframe\">\n",
       "  <thead>\n",
       "    <tr style=\"text-align: right;\">\n",
       "      <th></th>\n",
       "      <th>DATE</th>\n",
       "      <th>TIME</th>\n",
       "      <th>BOROUGH</th>\n",
       "      <th>ZIP CODE</th>\n",
       "      <th>LATITUDE</th>\n",
       "      <th>LONGITUDE</th>\n",
       "      <th>LOCATION</th>\n",
       "      <th>ON STREET NAME</th>\n",
       "      <th>CROSS STREET NAME</th>\n",
       "      <th>OFF STREET NAME</th>\n",
       "      <th>...</th>\n",
       "      <th>CONTRIBUTING FACTOR VEHICLE 2</th>\n",
       "      <th>CONTRIBUTING FACTOR VEHICLE 3</th>\n",
       "      <th>CONTRIBUTING FACTOR VEHICLE 4</th>\n",
       "      <th>CONTRIBUTING FACTOR VEHICLE 5</th>\n",
       "      <th>UNIQUE KEY</th>\n",
       "      <th>VEHICLE TYPE CODE 1</th>\n",
       "      <th>VEHICLE TYPE CODE 2</th>\n",
       "      <th>VEHICLE TYPE CODE 3</th>\n",
       "      <th>VEHICLE TYPE CODE 4</th>\n",
       "      <th>VEHICLE TYPE CODE 5</th>\n",
       "    </tr>\n",
       "  </thead>\n",
       "  <tbody>\n",
       "    <tr>\n",
       "      <th>0</th>\n",
       "      <td>11/16/2018</td>\n",
       "      <td>0:10</td>\n",
       "      <td>MANHATTAN</td>\n",
       "      <td>10010</td>\n",
       "      <td>40.742275</td>\n",
       "      <td>-73.988914</td>\n",
       "      <td>(40.742275, -73.988914)</td>\n",
       "      <td>5 AVENUE</td>\n",
       "      <td>BROADWAY</td>\n",
       "      <td>NaN</td>\n",
       "      <td>...</td>\n",
       "      <td>Unspecified</td>\n",
       "      <td>NaN</td>\n",
       "      <td>NaN</td>\n",
       "      <td>NaN</td>\n",
       "      <td>4021880</td>\n",
       "      <td>Station Wagon/Sport Utility Vehicle</td>\n",
       "      <td>Station Wagon/Sport Utility Vehicle</td>\n",
       "      <td>NaN</td>\n",
       "      <td>NaN</td>\n",
       "      <td>NaN</td>\n",
       "    </tr>\n",
       "    <tr>\n",
       "      <th>1</th>\n",
       "      <td>11/16/2018</td>\n",
       "      <td>0:40</td>\n",
       "      <td>NaN</td>\n",
       "      <td>NaN</td>\n",
       "      <td>40.762720</td>\n",
       "      <td>-73.728170</td>\n",
       "      <td>(40.76272, -73.72817)</td>\n",
       "      <td>LONG ISLAND EXPRESSWAY</td>\n",
       "      <td>NaN</td>\n",
       "      <td>NaN</td>\n",
       "      <td>...</td>\n",
       "      <td>Pavement Slippery</td>\n",
       "      <td>NaN</td>\n",
       "      <td>NaN</td>\n",
       "      <td>NaN</td>\n",
       "      <td>4021727</td>\n",
       "      <td>Sedan</td>\n",
       "      <td>Pick-up Truck</td>\n",
       "      <td>NaN</td>\n",
       "      <td>NaN</td>\n",
       "      <td>NaN</td>\n",
       "    </tr>\n",
       "    <tr>\n",
       "      <th>2</th>\n",
       "      <td>11/16/2018</td>\n",
       "      <td>0:45</td>\n",
       "      <td>BROOKLYN</td>\n",
       "      <td>11211</td>\n",
       "      <td>40.710197</td>\n",
       "      <td>-73.958430</td>\n",
       "      <td>(40.710197, -73.95843)</td>\n",
       "      <td>BORINQUEN PLACE</td>\n",
       "      <td>HAVEMEYER STREET</td>\n",
       "      <td>NaN</td>\n",
       "      <td>...</td>\n",
       "      <td>Driver Inattention/Distraction</td>\n",
       "      <td>NaN</td>\n",
       "      <td>NaN</td>\n",
       "      <td>NaN</td>\n",
       "      <td>4021791</td>\n",
       "      <td>Taxi</td>\n",
       "      <td>Taxi</td>\n",
       "      <td>NaN</td>\n",
       "      <td>NaN</td>\n",
       "      <td>NaN</td>\n",
       "    </tr>\n",
       "    <tr>\n",
       "      <th>3</th>\n",
       "      <td>11/16/2018</td>\n",
       "      <td>1:00</td>\n",
       "      <td>BRONX</td>\n",
       "      <td>10454</td>\n",
       "      <td>40.803555</td>\n",
       "      <td>-73.911840</td>\n",
       "      <td>(40.803555, -73.91184)</td>\n",
       "      <td>EAST 137 STREET</td>\n",
       "      <td>WILLOW AVENUE</td>\n",
       "      <td>NaN</td>\n",
       "      <td>...</td>\n",
       "      <td>Unspecified</td>\n",
       "      <td>NaN</td>\n",
       "      <td>NaN</td>\n",
       "      <td>NaN</td>\n",
       "      <td>4021878</td>\n",
       "      <td>Garbage or Refuse</td>\n",
       "      <td>Station Wagon/Sport Utility Vehicle</td>\n",
       "      <td>NaN</td>\n",
       "      <td>NaN</td>\n",
       "      <td>NaN</td>\n",
       "    </tr>\n",
       "    <tr>\n",
       "      <th>4</th>\n",
       "      <td>11/16/2018</td>\n",
       "      <td>1:00</td>\n",
       "      <td>BROOKLYN</td>\n",
       "      <td>11221</td>\n",
       "      <td>40.694923</td>\n",
       "      <td>-73.915565</td>\n",
       "      <td>(40.694923, -73.915565)</td>\n",
       "      <td>WILSON AVENUE</td>\n",
       "      <td>PALMETTO STREET</td>\n",
       "      <td>NaN</td>\n",
       "      <td>...</td>\n",
       "      <td>Unspecified</td>\n",
       "      <td>NaN</td>\n",
       "      <td>NaN</td>\n",
       "      <td>NaN</td>\n",
       "      <td>4021848</td>\n",
       "      <td>Station Wagon/Sport Utility Vehicle</td>\n",
       "      <td>Station Wagon/Sport Utility Vehicle</td>\n",
       "      <td>NaN</td>\n",
       "      <td>NaN</td>\n",
       "      <td>NaN</td>\n",
       "    </tr>\n",
       "  </tbody>\n",
       "</table>\n",
       "<p>5 rows × 29 columns</p>\n",
       "</div>"
      ],
      "text/plain": [
       "         DATE  TIME    BOROUGH ZIP CODE   LATITUDE  LONGITUDE  \\\n",
       "0  11/16/2018  0:10  MANHATTAN    10010  40.742275 -73.988914   \n",
       "1  11/16/2018  0:40        NaN      NaN  40.762720 -73.728170   \n",
       "2  11/16/2018  0:45   BROOKLYN    11211  40.710197 -73.958430   \n",
       "3  11/16/2018  1:00      BRONX    10454  40.803555 -73.911840   \n",
       "4  11/16/2018  1:00   BROOKLYN    11221  40.694923 -73.915565   \n",
       "\n",
       "                  LOCATION                    ON STREET NAME  \\\n",
       "0  (40.742275, -73.988914)  5 AVENUE                           \n",
       "1    (40.76272, -73.72817)  LONG ISLAND EXPRESSWAY             \n",
       "2   (40.710197, -73.95843)  BORINQUEN PLACE                    \n",
       "3   (40.803555, -73.91184)  EAST 137 STREET                    \n",
       "4  (40.694923, -73.915565)  WILSON AVENUE                      \n",
       "\n",
       "  CROSS STREET NAME OFF STREET NAME         ...          \\\n",
       "0          BROADWAY             NaN         ...           \n",
       "1               NaN             NaN         ...           \n",
       "2  HAVEMEYER STREET             NaN         ...           \n",
       "3     WILLOW AVENUE             NaN         ...           \n",
       "4   PALMETTO STREET             NaN         ...           \n",
       "\n",
       "    CONTRIBUTING FACTOR VEHICLE 2  CONTRIBUTING FACTOR VEHICLE 3  \\\n",
       "0                     Unspecified                            NaN   \n",
       "1               Pavement Slippery                            NaN   \n",
       "2  Driver Inattention/Distraction                            NaN   \n",
       "3                     Unspecified                            NaN   \n",
       "4                     Unspecified                            NaN   \n",
       "\n",
       "   CONTRIBUTING FACTOR VEHICLE 4  CONTRIBUTING FACTOR VEHICLE 5  UNIQUE KEY  \\\n",
       "0                            NaN                            NaN     4021880   \n",
       "1                            NaN                            NaN     4021727   \n",
       "2                            NaN                            NaN     4021791   \n",
       "3                            NaN                            NaN     4021878   \n",
       "4                            NaN                            NaN     4021848   \n",
       "\n",
       "                   VEHICLE TYPE CODE 1                  VEHICLE TYPE CODE 2  \\\n",
       "0  Station Wagon/Sport Utility Vehicle  Station Wagon/Sport Utility Vehicle   \n",
       "1                                Sedan                        Pick-up Truck   \n",
       "2                                 Taxi                                 Taxi   \n",
       "3                    Garbage or Refuse  Station Wagon/Sport Utility Vehicle   \n",
       "4  Station Wagon/Sport Utility Vehicle  Station Wagon/Sport Utility Vehicle   \n",
       "\n",
       "   VEHICLE TYPE CODE 3 VEHICLE TYPE CODE 4 VEHICLE TYPE CODE 5  \n",
       "0                  NaN                 NaN                 NaN  \n",
       "1                  NaN                 NaN                 NaN  \n",
       "2                  NaN                 NaN                 NaN  \n",
       "3                  NaN                 NaN                 NaN  \n",
       "4                  NaN                 NaN                 NaN  \n",
       "\n",
       "[5 rows x 29 columns]"
      ]
     },
     "execution_count": 3,
     "metadata": {},
     "output_type": "execute_result"
    }
   ],
   "source": [
    "df.head()"
   ]
  },
  {
   "cell_type": "code",
   "execution_count": 4,
   "metadata": {},
   "outputs": [
    {
     "data": {
      "text/plain": [
       "1385920"
      ]
     },
     "execution_count": 4,
     "metadata": {},
     "output_type": "execute_result"
    }
   ],
   "source": [
    "len(df)"
   ]
  },
  {
   "cell_type": "markdown",
   "metadata": {},
   "source": [
    "# Data Cleaning"
   ]
  },
  {
   "cell_type": "code",
   "execution_count": 5,
   "metadata": {},
   "outputs": [],
   "source": [
    "# restirct data for the year of 2016 ane 2017\n",
    "df = df[(df['DATE'].apply(lambda x : x[-4:]) == '2016') | (df['DATE'].apply(lambda x : x[-4:]) == '2017') ]"
   ]
  },
  {
   "cell_type": "code",
   "execution_count": 6,
   "metadata": {
    "scrolled": true
   },
   "outputs": [
    {
     "data": {
      "text/plain": [
       "Index(['DATE', 'TIME', 'BOROUGH', 'ZIP CODE', 'LATITUDE', 'LONGITUDE',\n",
       "       'LOCATION', 'ON STREET NAME', 'CROSS STREET NAME', 'OFF STREET NAME',\n",
       "       'NUMBER OF PERSONS INJURED', 'NUMBER OF PERSONS KILLED',\n",
       "       'NUMBER OF PEDESTRIANS INJURED', 'NUMBER OF PEDESTRIANS KILLED',\n",
       "       'NUMBER OF CYCLIST INJURED', 'NUMBER OF CYCLIST KILLED',\n",
       "       'NUMBER OF MOTORIST INJURED', 'NUMBER OF MOTORIST KILLED',\n",
       "       'CONTRIBUTING FACTOR VEHICLE 1', 'CONTRIBUTING FACTOR VEHICLE 2',\n",
       "       'CONTRIBUTING FACTOR VEHICLE 3', 'CONTRIBUTING FACTOR VEHICLE 4',\n",
       "       'CONTRIBUTING FACTOR VEHICLE 5', 'UNIQUE KEY', 'VEHICLE TYPE CODE 1',\n",
       "       'VEHICLE TYPE CODE 2', 'VEHICLE TYPE CODE 3', 'VEHICLE TYPE CODE 4',\n",
       "       'VEHICLE TYPE CODE 5'],\n",
       "      dtype='object')"
      ]
     },
     "execution_count": 6,
     "metadata": {},
     "output_type": "execute_result"
    }
   ],
   "source": [
    "df.columns"
   ]
  },
  {
   "cell_type": "code",
   "execution_count": 7,
   "metadata": {},
   "outputs": [],
   "source": [
    "nan_cols = ['CONTRIBUTING FACTOR VEHICLE 2',\n",
    "       'CONTRIBUTING FACTOR VEHICLE 3', 'CONTRIBUTING FACTOR VEHICLE 4',\n",
    "       'CONTRIBUTING FACTOR VEHICLE 5', 'VEHICLE TYPE CODE 3', 'VEHICLE TYPE CODE 4',\n",
    "       'VEHICLE TYPE CODE 5', 'VEHICLE TYPE CODE 2']\n",
    "#rep_cols = ['ON STREET NAME', 'CROSS STREET NAME', 'OFF STREET NAME']\n",
    "rep_cols = ['CROSS STREET NAME', 'OFF STREET NAME']\n",
    "\n",
    "useless_cols = ['UNIQUE KEY']"
   ]
  },
  {
   "cell_type": "code",
   "execution_count": 8,
   "metadata": {},
   "outputs": [],
   "source": [
    "df.drop(nan_cols, axis=1, inplace=True)\n",
    "df.drop(rep_cols, axis=1, inplace=True)\n",
    "df.drop(useless_cols, axis=1, inplace=True)"
   ]
  },
  {
   "cell_type": "code",
   "execution_count": 9,
   "metadata": {},
   "outputs": [],
   "source": [
    "# target variable cleaning\n",
    "df = df[pd.notnull(df['CONTRIBUTING FACTOR VEHICLE 1'])]\n",
    "df = df[df['CONTRIBUTING FACTOR VEHICLE 1'] != 'Unspecified']\n",
    "df = df[df['CONTRIBUTING FACTOR VEHICLE 1'] != '1']\n",
    "df = df[df['CONTRIBUTING FACTOR VEHICLE 1'] != '80']\n",
    "\n",
    "#location feature clean missing value\n",
    "df = df[pd.notnull(df['LATITUDE'])]\n",
    "df = df[pd.notnull(df['LONGITUDE'])]"
   ]
  },
  {
   "cell_type": "code",
   "execution_count": 10,
   "metadata": {},
   "outputs": [
    {
     "data": {
      "text/html": [
       "<div>\n",
       "<style scoped>\n",
       "    .dataframe tbody tr th:only-of-type {\n",
       "        vertical-align: middle;\n",
       "    }\n",
       "\n",
       "    .dataframe tbody tr th {\n",
       "        vertical-align: top;\n",
       "    }\n",
       "\n",
       "    .dataframe thead th {\n",
       "        text-align: right;\n",
       "    }\n",
       "</style>\n",
       "<table border=\"1\" class=\"dataframe\">\n",
       "  <thead>\n",
       "    <tr style=\"text-align: right;\">\n",
       "      <th></th>\n",
       "      <th>DATE</th>\n",
       "      <th>TIME</th>\n",
       "      <th>BOROUGH</th>\n",
       "      <th>ZIP CODE</th>\n",
       "      <th>LATITUDE</th>\n",
       "      <th>LONGITUDE</th>\n",
       "      <th>LOCATION</th>\n",
       "      <th>ON STREET NAME</th>\n",
       "      <th>NUMBER OF PERSONS INJURED</th>\n",
       "      <th>NUMBER OF PERSONS KILLED</th>\n",
       "      <th>NUMBER OF PEDESTRIANS INJURED</th>\n",
       "      <th>NUMBER OF PEDESTRIANS KILLED</th>\n",
       "      <th>NUMBER OF CYCLIST INJURED</th>\n",
       "      <th>NUMBER OF CYCLIST KILLED</th>\n",
       "      <th>NUMBER OF MOTORIST INJURED</th>\n",
       "      <th>NUMBER OF MOTORIST KILLED</th>\n",
       "      <th>CONTRIBUTING FACTOR VEHICLE 1</th>\n",
       "      <th>VEHICLE TYPE CODE 1</th>\n",
       "    </tr>\n",
       "  </thead>\n",
       "  <tbody>\n",
       "    <tr>\n",
       "      <th>199123</th>\n",
       "      <td>12/15/2017</td>\n",
       "      <td>16:45</td>\n",
       "      <td>NaN</td>\n",
       "      <td>NaN</td>\n",
       "      <td>40.705246</td>\n",
       "      <td>-73.959080</td>\n",
       "      <td>(40.705246, -73.95908)</td>\n",
       "      <td>NaN</td>\n",
       "      <td>0.0</td>\n",
       "      <td>0.0</td>\n",
       "      <td>0</td>\n",
       "      <td>0</td>\n",
       "      <td>0</td>\n",
       "      <td>0</td>\n",
       "      <td>0</td>\n",
       "      <td>0</td>\n",
       "      <td>Pavement Slippery</td>\n",
       "      <td>FB</td>\n",
       "    </tr>\n",
       "    <tr>\n",
       "      <th>200240</th>\n",
       "      <td>12/31/2017</td>\n",
       "      <td>0:00</td>\n",
       "      <td>QUEENS</td>\n",
       "      <td>11432</td>\n",
       "      <td>40.710133</td>\n",
       "      <td>-73.783330</td>\n",
       "      <td>(40.710133, -73.78333)</td>\n",
       "      <td>NaN</td>\n",
       "      <td>0.0</td>\n",
       "      <td>0.0</td>\n",
       "      <td>0</td>\n",
       "      <td>0</td>\n",
       "      <td>0</td>\n",
       "      <td>0</td>\n",
       "      <td>0</td>\n",
       "      <td>0</td>\n",
       "      <td>Reaction to Other Uninvolved Vehicle</td>\n",
       "      <td>SPORT UTILITY / STATION WAGON</td>\n",
       "    </tr>\n",
       "    <tr>\n",
       "      <th>200241</th>\n",
       "      <td>12/31/2017</td>\n",
       "      <td>0:00</td>\n",
       "      <td>NaN</td>\n",
       "      <td>NaN</td>\n",
       "      <td>40.602673</td>\n",
       "      <td>-73.899330</td>\n",
       "      <td>(40.602673, -73.89933)</td>\n",
       "      <td>BELT PARKWAY</td>\n",
       "      <td>0.0</td>\n",
       "      <td>0.0</td>\n",
       "      <td>0</td>\n",
       "      <td>0</td>\n",
       "      <td>0</td>\n",
       "      <td>0</td>\n",
       "      <td>0</td>\n",
       "      <td>0</td>\n",
       "      <td>Driver Inexperience</td>\n",
       "      <td>PASSENGER VEHICLE</td>\n",
       "    </tr>\n",
       "    <tr>\n",
       "      <th>200243</th>\n",
       "      <td>12/31/2017</td>\n",
       "      <td>0:01</td>\n",
       "      <td>BRONX</td>\n",
       "      <td>10456</td>\n",
       "      <td>40.828390</td>\n",
       "      <td>-73.916916</td>\n",
       "      <td>(40.82839, -73.916916)</td>\n",
       "      <td>MORRIS AVENUE</td>\n",
       "      <td>0.0</td>\n",
       "      <td>0.0</td>\n",
       "      <td>0</td>\n",
       "      <td>0</td>\n",
       "      <td>0</td>\n",
       "      <td>0</td>\n",
       "      <td>0</td>\n",
       "      <td>0</td>\n",
       "      <td>Outside Car Distraction</td>\n",
       "      <td>SPORT UTILITY / STATION WAGON</td>\n",
       "    </tr>\n",
       "    <tr>\n",
       "      <th>200246</th>\n",
       "      <td>12/31/2017</td>\n",
       "      <td>0:14</td>\n",
       "      <td>NaN</td>\n",
       "      <td>NaN</td>\n",
       "      <td>40.860380</td>\n",
       "      <td>-73.888890</td>\n",
       "      <td>(40.86038, -73.88889)</td>\n",
       "      <td>EAST FORDHAM ROAD</td>\n",
       "      <td>0.0</td>\n",
       "      <td>0.0</td>\n",
       "      <td>0</td>\n",
       "      <td>0</td>\n",
       "      <td>0</td>\n",
       "      <td>0</td>\n",
       "      <td>0</td>\n",
       "      <td>0</td>\n",
       "      <td>Pavement Slippery</td>\n",
       "      <td>PASSENGER VEHICLE</td>\n",
       "    </tr>\n",
       "  </tbody>\n",
       "</table>\n",
       "</div>"
      ],
      "text/plain": [
       "              DATE   TIME BOROUGH ZIP CODE   LATITUDE  LONGITUDE  \\\n",
       "199123  12/15/2017  16:45     NaN      NaN  40.705246 -73.959080   \n",
       "200240  12/31/2017   0:00  QUEENS    11432  40.710133 -73.783330   \n",
       "200241  12/31/2017   0:00     NaN      NaN  40.602673 -73.899330   \n",
       "200243  12/31/2017   0:01   BRONX    10456  40.828390 -73.916916   \n",
       "200246  12/31/2017   0:14     NaN      NaN  40.860380 -73.888890   \n",
       "\n",
       "                      LOCATION                    ON STREET NAME  \\\n",
       "199123  (40.705246, -73.95908)                               NaN   \n",
       "200240  (40.710133, -73.78333)                               NaN   \n",
       "200241  (40.602673, -73.89933)  BELT PARKWAY                       \n",
       "200243  (40.82839, -73.916916)  MORRIS AVENUE                      \n",
       "200246   (40.86038, -73.88889)  EAST FORDHAM ROAD                  \n",
       "\n",
       "        NUMBER OF PERSONS INJURED  NUMBER OF PERSONS KILLED  \\\n",
       "199123                        0.0                       0.0   \n",
       "200240                        0.0                       0.0   \n",
       "200241                        0.0                       0.0   \n",
       "200243                        0.0                       0.0   \n",
       "200246                        0.0                       0.0   \n",
       "\n",
       "        NUMBER OF PEDESTRIANS INJURED  NUMBER OF PEDESTRIANS KILLED  \\\n",
       "199123                              0                             0   \n",
       "200240                              0                             0   \n",
       "200241                              0                             0   \n",
       "200243                              0                             0   \n",
       "200246                              0                             0   \n",
       "\n",
       "        NUMBER OF CYCLIST INJURED  NUMBER OF CYCLIST KILLED  \\\n",
       "199123                          0                         0   \n",
       "200240                          0                         0   \n",
       "200241                          0                         0   \n",
       "200243                          0                         0   \n",
       "200246                          0                         0   \n",
       "\n",
       "        NUMBER OF MOTORIST INJURED  NUMBER OF MOTORIST KILLED  \\\n",
       "199123                           0                          0   \n",
       "200240                           0                          0   \n",
       "200241                           0                          0   \n",
       "200243                           0                          0   \n",
       "200246                           0                          0   \n",
       "\n",
       "               CONTRIBUTING FACTOR VEHICLE 1            VEHICLE TYPE CODE 1  \n",
       "199123                     Pavement Slippery                             FB  \n",
       "200240  Reaction to Other Uninvolved Vehicle  SPORT UTILITY / STATION WAGON  \n",
       "200241                   Driver Inexperience              PASSENGER VEHICLE  \n",
       "200243               Outside Car Distraction  SPORT UTILITY / STATION WAGON  \n",
       "200246                     Pavement Slippery              PASSENGER VEHICLE  "
      ]
     },
     "execution_count": 10,
     "metadata": {},
     "output_type": "execute_result"
    }
   ],
   "source": [
    "df.head()"
   ]
  },
  {
   "cell_type": "code",
   "execution_count": 11,
   "metadata": {},
   "outputs": [],
   "source": [
    "# # feature engeering with the target variable\n",
    "# df['CONTRIBUTING FACTOR VEHICLE 1'] = df['CONTRIBUTING FACTOR VEHICLE 1'].astype('category')"
   ]
  },
  {
   "cell_type": "code",
   "execution_count": 12,
   "metadata": {},
   "outputs": [],
   "source": [
    "# df['CONTRIBUTING FACTOR VEHICLE 1'].cat.categories"
   ]
  },
  {
   "cell_type": "code",
   "execution_count": 13,
   "metadata": {},
   "outputs": [],
   "source": [
    "# merge weather data\n",
    "df_weather = pd.read_csv('weather.csv')"
   ]
  },
  {
   "cell_type": "code",
   "execution_count": 14,
   "metadata": {
    "scrolled": true
   },
   "outputs": [
    {
     "data": {
      "text/html": [
       "<div>\n",
       "<style scoped>\n",
       "    .dataframe tbody tr th:only-of-type {\n",
       "        vertical-align: middle;\n",
       "    }\n",
       "\n",
       "    .dataframe tbody tr th {\n",
       "        vertical-align: top;\n",
       "    }\n",
       "\n",
       "    .dataframe thead th {\n",
       "        text-align: right;\n",
       "    }\n",
       "</style>\n",
       "<table border=\"1\" class=\"dataframe\">\n",
       "  <thead>\n",
       "    <tr style=\"text-align: right;\">\n",
       "      <th></th>\n",
       "      <th>Time</th>\n",
       "      <th>MaxTemperature(° F)</th>\n",
       "      <th>AvgTemperature</th>\n",
       "      <th>MinTemperature</th>\n",
       "      <th>MaxDewPoint(° F)</th>\n",
       "      <th>AvgDewPoint</th>\n",
       "      <th>MinDewPoint</th>\n",
       "      <th>MaxHumidity</th>\n",
       "      <th>MinHumidity</th>\n",
       "      <th>MaxWindSpeed(mph)</th>\n",
       "      <th>MinWindSpeed</th>\n",
       "      <th>MaxPressure(Hg)</th>\n",
       "      <th>MinPressure</th>\n",
       "      <th>Precipation(in)</th>\n",
       "    </tr>\n",
       "  </thead>\n",
       "  <tbody>\n",
       "    <tr>\n",
       "      <th>0</th>\n",
       "      <td>01/01/2016</td>\n",
       "      <td>42</td>\n",
       "      <td>38</td>\n",
       "      <td>34</td>\n",
       "      <td>26</td>\n",
       "      <td>23</td>\n",
       "      <td>16</td>\n",
       "      <td>59%</td>\n",
       "      <td>44%</td>\n",
       "      <td>17</td>\n",
       "      <td>0</td>\n",
       "      <td>30.06</td>\n",
       "      <td>29.97</td>\n",
       "      <td>0.0</td>\n",
       "    </tr>\n",
       "    <tr>\n",
       "      <th>1</th>\n",
       "      <td>01/02/2016</td>\n",
       "      <td>40</td>\n",
       "      <td>36</td>\n",
       "      <td>32</td>\n",
       "      <td>20</td>\n",
       "      <td>18</td>\n",
       "      <td>15</td>\n",
       "      <td>52%</td>\n",
       "      <td>40%</td>\n",
       "      <td>15</td>\n",
       "      <td>0</td>\n",
       "      <td>30.10</td>\n",
       "      <td>29.96</td>\n",
       "      <td>0.0</td>\n",
       "    </tr>\n",
       "    <tr>\n",
       "      <th>2</th>\n",
       "      <td>01/03/2016</td>\n",
       "      <td>45</td>\n",
       "      <td>40</td>\n",
       "      <td>35</td>\n",
       "      <td>23</td>\n",
       "      <td>21</td>\n",
       "      <td>19</td>\n",
       "      <td>56%</td>\n",
       "      <td>37%</td>\n",
       "      <td>17</td>\n",
       "      <td>0</td>\n",
       "      <td>29.94</td>\n",
       "      <td>29.79</td>\n",
       "      <td>0.0</td>\n",
       "    </tr>\n",
       "    <tr>\n",
       "      <th>3</th>\n",
       "      <td>01/04/2016</td>\n",
       "      <td>36</td>\n",
       "      <td>25</td>\n",
       "      <td>14</td>\n",
       "      <td>23</td>\n",
       "      <td>9</td>\n",
       "      <td>0</td>\n",
       "      <td>59%</td>\n",
       "      <td>28%</td>\n",
       "      <td>21</td>\n",
       "      <td>4</td>\n",
       "      <td>30.32</td>\n",
       "      <td>29.87</td>\n",
       "      <td>0.0</td>\n",
       "    </tr>\n",
       "    <tr>\n",
       "      <th>4</th>\n",
       "      <td>01/05/2016</td>\n",
       "      <td>29</td>\n",
       "      <td>20</td>\n",
       "      <td>11</td>\n",
       "      <td>1</td>\n",
       "      <td>-3</td>\n",
       "      <td>-6</td>\n",
       "      <td>58%</td>\n",
       "      <td>24%</td>\n",
       "      <td>20</td>\n",
       "      <td>0</td>\n",
       "      <td>30.62</td>\n",
       "      <td>30.46</td>\n",
       "      <td>0.0</td>\n",
       "    </tr>\n",
       "  </tbody>\n",
       "</table>\n",
       "</div>"
      ],
      "text/plain": [
       "         Time  MaxTemperature(° F)  AvgTemperature  MinTemperature  \\\n",
       "0  01/01/2016                   42              38              34   \n",
       "1  01/02/2016                   40              36              32   \n",
       "2  01/03/2016                   45              40              35   \n",
       "3  01/04/2016                   36              25              14   \n",
       "4  01/05/2016                   29              20              11   \n",
       "\n",
       "   MaxDewPoint(° F)  AvgDewPoint  MinDewPoint MaxHumidity MinHumidity  \\\n",
       "0                26           23           16         59%         44%   \n",
       "1                20           18           15         52%         40%   \n",
       "2                23           21           19         56%         37%   \n",
       "3                23            9            0         59%         28%   \n",
       "4                 1           -3           -6         58%         24%   \n",
       "\n",
       "   MaxWindSpeed(mph)  MinWindSpeed  MaxPressure(Hg)  MinPressure  \\\n",
       "0                 17             0            30.06        29.97   \n",
       "1                 15             0            30.10        29.96   \n",
       "2                 17             0            29.94        29.79   \n",
       "3                 21             4            30.32        29.87   \n",
       "4                 20             0            30.62        30.46   \n",
       "\n",
       "   Precipation(in)  \n",
       "0              0.0  \n",
       "1              0.0  \n",
       "2              0.0  \n",
       "3              0.0  \n",
       "4              0.0  "
      ]
     },
     "execution_count": 14,
     "metadata": {},
     "output_type": "execute_result"
    }
   ],
   "source": [
    "df_weather.head()"
   ]
  },
  {
   "cell_type": "code",
   "execution_count": 15,
   "metadata": {},
   "outputs": [],
   "source": [
    "df = df.merge(df_weather, how='left', left_on='DATE', right_on='Time')"
   ]
  },
  {
   "cell_type": "code",
   "execution_count": 16,
   "metadata": {},
   "outputs": [],
   "source": [
    "df.drop('Time', axis=1, inplace=True)"
   ]
  },
  {
   "cell_type": "code",
   "execution_count": 17,
   "metadata": {},
   "outputs": [
    {
     "data": {
      "text/html": [
       "<div>\n",
       "<style scoped>\n",
       "    .dataframe tbody tr th:only-of-type {\n",
       "        vertical-align: middle;\n",
       "    }\n",
       "\n",
       "    .dataframe tbody tr th {\n",
       "        vertical-align: top;\n",
       "    }\n",
       "\n",
       "    .dataframe thead th {\n",
       "        text-align: right;\n",
       "    }\n",
       "</style>\n",
       "<table border=\"1\" class=\"dataframe\">\n",
       "  <thead>\n",
       "    <tr style=\"text-align: right;\">\n",
       "      <th></th>\n",
       "      <th>DATE</th>\n",
       "      <th>TIME</th>\n",
       "      <th>BOROUGH</th>\n",
       "      <th>ZIP CODE</th>\n",
       "      <th>LATITUDE</th>\n",
       "      <th>LONGITUDE</th>\n",
       "      <th>LOCATION</th>\n",
       "      <th>ON STREET NAME</th>\n",
       "      <th>NUMBER OF PERSONS INJURED</th>\n",
       "      <th>NUMBER OF PERSONS KILLED</th>\n",
       "      <th>...</th>\n",
       "      <th>MaxDewPoint(° F)</th>\n",
       "      <th>AvgDewPoint</th>\n",
       "      <th>MinDewPoint</th>\n",
       "      <th>MaxHumidity</th>\n",
       "      <th>MinHumidity</th>\n",
       "      <th>MaxWindSpeed(mph)</th>\n",
       "      <th>MinWindSpeed</th>\n",
       "      <th>MaxPressure(Hg)</th>\n",
       "      <th>MinPressure</th>\n",
       "      <th>Precipation(in)</th>\n",
       "    </tr>\n",
       "  </thead>\n",
       "  <tbody>\n",
       "    <tr>\n",
       "      <th>0</th>\n",
       "      <td>12/15/2017</td>\n",
       "      <td>16:45</td>\n",
       "      <td>NaN</td>\n",
       "      <td>NaN</td>\n",
       "      <td>40.705246</td>\n",
       "      <td>-73.959080</td>\n",
       "      <td>(40.705246, -73.95908)</td>\n",
       "      <td>NaN</td>\n",
       "      <td>0.0</td>\n",
       "      <td>0.0</td>\n",
       "      <td>...</td>\n",
       "      <td>21</td>\n",
       "      <td>16</td>\n",
       "      <td>5</td>\n",
       "      <td>88%</td>\n",
       "      <td>47%</td>\n",
       "      <td>12</td>\n",
       "      <td>0</td>\n",
       "      <td>30.11</td>\n",
       "      <td>29.89</td>\n",
       "      <td>0.11</td>\n",
       "    </tr>\n",
       "    <tr>\n",
       "      <th>1</th>\n",
       "      <td>12/31/2017</td>\n",
       "      <td>0:00</td>\n",
       "      <td>QUEENS</td>\n",
       "      <td>11432</td>\n",
       "      <td>40.710133</td>\n",
       "      <td>-73.783330</td>\n",
       "      <td>(40.710133, -73.78333)</td>\n",
       "      <td>NaN</td>\n",
       "      <td>0.0</td>\n",
       "      <td>0.0</td>\n",
       "      <td>...</td>\n",
       "      <td>11</td>\n",
       "      <td>-1</td>\n",
       "      <td>-5</td>\n",
       "      <td>73%</td>\n",
       "      <td>42%</td>\n",
       "      <td>17</td>\n",
       "      <td>6</td>\n",
       "      <td>30.33</td>\n",
       "      <td>30.05</td>\n",
       "      <td>0.00</td>\n",
       "    </tr>\n",
       "    <tr>\n",
       "      <th>2</th>\n",
       "      <td>12/31/2017</td>\n",
       "      <td>0:00</td>\n",
       "      <td>NaN</td>\n",
       "      <td>NaN</td>\n",
       "      <td>40.602673</td>\n",
       "      <td>-73.899330</td>\n",
       "      <td>(40.602673, -73.89933)</td>\n",
       "      <td>BELT PARKWAY</td>\n",
       "      <td>0.0</td>\n",
       "      <td>0.0</td>\n",
       "      <td>...</td>\n",
       "      <td>11</td>\n",
       "      <td>-1</td>\n",
       "      <td>-5</td>\n",
       "      <td>73%</td>\n",
       "      <td>42%</td>\n",
       "      <td>17</td>\n",
       "      <td>6</td>\n",
       "      <td>30.33</td>\n",
       "      <td>30.05</td>\n",
       "      <td>0.00</td>\n",
       "    </tr>\n",
       "    <tr>\n",
       "      <th>3</th>\n",
       "      <td>12/31/2017</td>\n",
       "      <td>0:01</td>\n",
       "      <td>BRONX</td>\n",
       "      <td>10456</td>\n",
       "      <td>40.828390</td>\n",
       "      <td>-73.916916</td>\n",
       "      <td>(40.82839, -73.916916)</td>\n",
       "      <td>MORRIS AVENUE</td>\n",
       "      <td>0.0</td>\n",
       "      <td>0.0</td>\n",
       "      <td>...</td>\n",
       "      <td>11</td>\n",
       "      <td>-1</td>\n",
       "      <td>-5</td>\n",
       "      <td>73%</td>\n",
       "      <td>42%</td>\n",
       "      <td>17</td>\n",
       "      <td>6</td>\n",
       "      <td>30.33</td>\n",
       "      <td>30.05</td>\n",
       "      <td>0.00</td>\n",
       "    </tr>\n",
       "    <tr>\n",
       "      <th>4</th>\n",
       "      <td>12/31/2017</td>\n",
       "      <td>0:14</td>\n",
       "      <td>NaN</td>\n",
       "      <td>NaN</td>\n",
       "      <td>40.860380</td>\n",
       "      <td>-73.888890</td>\n",
       "      <td>(40.86038, -73.88889)</td>\n",
       "      <td>EAST FORDHAM ROAD</td>\n",
       "      <td>0.0</td>\n",
       "      <td>0.0</td>\n",
       "      <td>...</td>\n",
       "      <td>11</td>\n",
       "      <td>-1</td>\n",
       "      <td>-5</td>\n",
       "      <td>73%</td>\n",
       "      <td>42%</td>\n",
       "      <td>17</td>\n",
       "      <td>6</td>\n",
       "      <td>30.33</td>\n",
       "      <td>30.05</td>\n",
       "      <td>0.00</td>\n",
       "    </tr>\n",
       "  </tbody>\n",
       "</table>\n",
       "<p>5 rows × 31 columns</p>\n",
       "</div>"
      ],
      "text/plain": [
       "         DATE   TIME BOROUGH ZIP CODE   LATITUDE  LONGITUDE  \\\n",
       "0  12/15/2017  16:45     NaN      NaN  40.705246 -73.959080   \n",
       "1  12/31/2017   0:00  QUEENS    11432  40.710133 -73.783330   \n",
       "2  12/31/2017   0:00     NaN      NaN  40.602673 -73.899330   \n",
       "3  12/31/2017   0:01   BRONX    10456  40.828390 -73.916916   \n",
       "4  12/31/2017   0:14     NaN      NaN  40.860380 -73.888890   \n",
       "\n",
       "                 LOCATION                    ON STREET NAME  \\\n",
       "0  (40.705246, -73.95908)                               NaN   \n",
       "1  (40.710133, -73.78333)                               NaN   \n",
       "2  (40.602673, -73.89933)  BELT PARKWAY                       \n",
       "3  (40.82839, -73.916916)  MORRIS AVENUE                      \n",
       "4   (40.86038, -73.88889)  EAST FORDHAM ROAD                  \n",
       "\n",
       "   NUMBER OF PERSONS INJURED  NUMBER OF PERSONS KILLED       ...         \\\n",
       "0                        0.0                       0.0       ...          \n",
       "1                        0.0                       0.0       ...          \n",
       "2                        0.0                       0.0       ...          \n",
       "3                        0.0                       0.0       ...          \n",
       "4                        0.0                       0.0       ...          \n",
       "\n",
       "   MaxDewPoint(° F)  AvgDewPoint  MinDewPoint  MaxHumidity  MinHumidity  \\\n",
       "0                21           16            5          88%          47%   \n",
       "1                11           -1           -5          73%          42%   \n",
       "2                11           -1           -5          73%          42%   \n",
       "3                11           -1           -5          73%          42%   \n",
       "4                11           -1           -5          73%          42%   \n",
       "\n",
       "   MaxWindSpeed(mph) MinWindSpeed MaxPressure(Hg)  MinPressure  \\\n",
       "0                 12            0           30.11        29.89   \n",
       "1                 17            6           30.33        30.05   \n",
       "2                 17            6           30.33        30.05   \n",
       "3                 17            6           30.33        30.05   \n",
       "4                 17            6           30.33        30.05   \n",
       "\n",
       "   Precipation(in)  \n",
       "0             0.11  \n",
       "1             0.00  \n",
       "2             0.00  \n",
       "3             0.00  \n",
       "4             0.00  \n",
       "\n",
       "[5 rows x 31 columns]"
      ]
     },
     "execution_count": 17,
     "metadata": {},
     "output_type": "execute_result"
    }
   ],
   "source": [
    "df.head()"
   ]
  },
  {
   "cell_type": "code",
   "execution_count": 18,
   "metadata": {},
   "outputs": [],
   "source": [
    "df['MaxHumidity'] = df['MaxHumidity'].apply(lambda x : float(x[:-1]) / 100).astype(float)\n",
    "df['MinHumidity'] = df['MinHumidity'].apply(lambda x : float(x[:-1]) / 100).astype(float)"
   ]
  },
  {
   "cell_type": "code",
   "execution_count": 19,
   "metadata": {},
   "outputs": [
    {
     "data": {
      "text/plain": [
       "DATE                              object\n",
       "TIME                              object\n",
       "BOROUGH                           object\n",
       "ZIP CODE                          object\n",
       "LATITUDE                         float64\n",
       "LONGITUDE                        float64\n",
       "LOCATION                          object\n",
       "ON STREET NAME                    object\n",
       "NUMBER OF PERSONS INJURED        float64\n",
       "NUMBER OF PERSONS KILLED         float64\n",
       "NUMBER OF PEDESTRIANS INJURED      int64\n",
       "NUMBER OF PEDESTRIANS KILLED       int64\n",
       "NUMBER OF CYCLIST INJURED          int64\n",
       "NUMBER OF CYCLIST KILLED           int64\n",
       "NUMBER OF MOTORIST INJURED         int64\n",
       "NUMBER OF MOTORIST KILLED          int64\n",
       "CONTRIBUTING FACTOR VEHICLE 1     object\n",
       "VEHICLE TYPE CODE 1               object\n",
       "MaxTemperature(° F)                int64\n",
       "AvgTemperature                     int64\n",
       "MinTemperature                     int64\n",
       "MaxDewPoint(° F)                   int64\n",
       "AvgDewPoint                        int64\n",
       "MinDewPoint                        int64\n",
       "MaxHumidity                      float64\n",
       "MinHumidity                      float64\n",
       "MaxWindSpeed(mph)                  int64\n",
       "MinWindSpeed                       int64\n",
       "MaxPressure(Hg)                  float64\n",
       "MinPressure                      float64\n",
       "Precipation(in)                  float64\n",
       "dtype: object"
      ]
     },
     "execution_count": 19,
     "metadata": {},
     "output_type": "execute_result"
    }
   ],
   "source": [
    "df.dtypes"
   ]
  },
  {
   "cell_type": "markdown",
   "metadata": {},
   "source": [
    "# Feature Engineering"
   ]
  },
  {
   "cell_type": "markdown",
   "metadata": {},
   "source": [
    "## taget variable"
   ]
  },
  {
   "cell_type": "code",
   "execution_count": 20,
   "metadata": {},
   "outputs": [
    {
     "data": {
      "text/plain": [
       "<matplotlib.axes._subplots.AxesSubplot at 0x11420d6d8>"
      ]
     },
     "execution_count": 20,
     "metadata": {},
     "output_type": "execute_result"
    },
    {
     "data": {
      "image/png": "[encoded data removed]",
      "text/plain": [
       "<Figure size 1296x432 with 1 Axes>"
      ]
     },
     "metadata": {},
     "output_type": "display_data"
    }
   ],
   "source": [
    "plt.figure(figsize=(18,6))\n",
    "df['CONTRIBUTING FACTOR VEHICLE 1'].value_counts().plot(kind = 'bar')"
   ]
  },
  {
   "cell_type": "code",
   "execution_count": 21,
   "metadata": {
    "scrolled": true
   },
   "outputs": [
    {
     "data": {
      "text/plain": [
       "Index(['Driver Inattention/Distraction', 'Following Too Closely',\n",
       "       'Failure to Yield Right-of-Way', 'Backing Unsafely',\n",
       "       'Passing or Lane Usage Improper', 'Unsafe Lane Changing',\n",
       "       'Other Vehicular', 'Turning Improperly', 'Traffic Control Disregarded',\n",
       "       'Driver Inexperience', 'Reaction to Other Uninvolved Vehicle',\n",
       "       'Unsafe Speed', 'Fatigued/Drowsy', 'Alcohol Involvement',\n",
       "       'Pavement Slippery', 'View Obstructed/Limited', 'Oversized Vehicle',\n",
       "       'Lost Consciousness',\n",
       "       'Pedestrian/Bicyclist/Other Pedestrian Error/Confusion',\n",
       "       'Aggressive Driving/Road Rage', 'Outside Car Distraction',\n",
       "       'Passenger Distraction', 'Prescription Medication', 'Brakes Defective',\n",
       "       'Fell Asleep', 'Glare', 'Obstruction/Debris', 'Physical Disability',\n",
       "       'Failure to Keep Right', 'Illness', 'Passing Too Closely',\n",
       "       'Steering Failure', 'Tire Failure/Inadequate', 'Pavement Defective',\n",
       "       'Driverless/Runaway Vehicle', 'Animals Action',\n",
       "       'Other Electronic Device', 'Accelerator Defective', 'Drugs (Illegal)',\n",
       "       'Lane Marking Improper/Inadequate',\n",
       "       'Traffic Control Device Improper/Non-Working', 'Cell Phone (hand-held)',\n",
       "       'Other Lighting Defects', 'Tow Hitch Defective',\n",
       "       'Cell Phone (hands-free)', 'Headlights Defective',\n",
       "       'Shoulders Defective/Improper', 'Windshield Inadequate',\n",
       "       'Reaction to Uninvolved Vehicle', 'Vehicle Vandalism',\n",
       "       'Tinted Windows'],\n",
       "      dtype='object', name='CONTRIBUTING FACTOR VEHICLE 1')"
      ]
     },
     "execution_count": 21,
     "metadata": {},
     "output_type": "execute_result"
    }
   ],
   "source": [
    "# all the contributing factors in the data set\n",
    "p = df.groupby(['CONTRIBUTING FACTOR VEHICLE 1']).size()\n",
    "p = p.sort_values(ascending = False)\n",
    "p.keys()"
   ]
  },
  {
   "cell_type": "code",
   "execution_count": 22,
   "metadata": {
    "scrolled": true
   },
   "outputs": [
    {
     "data": {
      "text/plain": [
       "CONTRIBUTING FACTOR VEHICLE 1\n",
       "Driver Inattention/Distraction                           68634\n",
       "Following Too Closely                                    25299\n",
       "Failure to Yield Right-of-Way                            20411\n",
       "Backing Unsafely                                         14242\n",
       "Passing or Lane Usage Improper                           11680\n",
       "Unsafe Lane Changing                                      9833\n",
       "Other Vehicular                                           8782\n",
       "Turning Improperly                                        7989\n",
       "Traffic Control Disregarded                               5502\n",
       "Driver Inexperience                                       5335\n",
       "Reaction to Other Uninvolved Vehicle                      4145\n",
       "Unsafe Speed                                              4121\n",
       "Fatigued/Drowsy                                           3793\n",
       "Alcohol Involvement                                       3339\n",
       "Pavement Slippery                                         3160\n",
       "View Obstructed/Limited                                   2201\n",
       "Oversized Vehicle                                         2119\n",
       "Lost Consciousness                                        1783\n",
       "Pedestrian/Bicyclist/Other Pedestrian Error/Confusion     1713\n",
       "Aggressive Driving/Road Rage                              1271\n",
       "Outside Car Distraction                                   1187\n",
       "Passenger Distraction                                     1184\n",
       "Prescription Medication                                   1011\n",
       "Brakes Defective                                           974\n",
       "Fell Asleep                                                909\n",
       "Glare                                                      775\n",
       "Obstruction/Debris                                         671\n",
       "Physical Disability                                        633\n",
       "Failure to Keep Right                                      484\n",
       "Illness                                                    445\n",
       "Passing Too Closely                                        370\n",
       "Steering Failure                                           368\n",
       "Tire Failure/Inadequate                                    356\n",
       "Pavement Defective                                         341\n",
       "Driverless/Runaway Vehicle                                 309\n",
       "Animals Action                                             283\n",
       "Other Electronic Device                                    203\n",
       "Accelerator Defective                                      170\n",
       "Drugs (Illegal)                                            165\n",
       "Lane Marking Improper/Inadequate                           126\n",
       "Traffic Control Device Improper/Non-Working                116\n",
       "Cell Phone (hand-held)                                     104\n",
       "Other Lighting Defects                                      30\n",
       "Tow Hitch Defective                                         28\n",
       "Cell Phone (hands-free)                                     21\n",
       "Headlights Defective                                        18\n",
       "Shoulders Defective/Improper                                15\n",
       "Windshield Inadequate                                        9\n",
       "Reaction to Uninvolved Vehicle                               6\n",
       "Vehicle Vandalism                                            4\n",
       "Tinted Windows                                               1\n",
       "dtype: int64"
      ]
     },
     "execution_count": 22,
     "metadata": {},
     "output_type": "execute_result"
    }
   ],
   "source": [
    "p"
   ]
  },
  {
   "cell_type": "code",
   "execution_count": 23,
   "metadata": {},
   "outputs": [],
   "source": [
    "#target variable \n",
    "\n",
    "unpreditable = ['Animals Action', 'Eating or Drinking', 'Driver Inexperience',\n",
    "                'Headlights Defective', 'Illness',\n",
    "                'Lane Marking Improper/Inadequate', 'Oversized Vehicle','Passenger Distraction','Pavement Defective', \n",
    "                'Pavement Slippery', 'Pedestrian/Bicyclist/Other Pedestrian Error/Confusion', 'Physical Disability', 'Prescription Medication', \n",
    "                'Steering Failure', 'Tinted Windows', 'Tire Failure/Inadequate', 'Tow Hitch Defective', 'Shoulders Defective/Improper', 'Windshield Inadequate', 'Vehicle Vandalism',\n",
    "               'Using On Board Navigation Device', 'Traffic Control Device Improper/Non-Working']\n",
    "\n",
    "\n",
    "use_label = ['Failure to Yield Right-of-Way', 'Turning Improperly', 'Unsafe Lane Changing', 'Fatigued/Drowsy']"
   ]
  },
  {
   "cell_type": "code",
   "execution_count": 24,
   "metadata": {},
   "outputs": [],
   "source": [
    "# only choosen labels for the project\n",
    "df2 = df[df['CONTRIBUTING FACTOR VEHICLE 1'].isin(use_label)]"
   ]
  },
  {
   "cell_type": "code",
   "execution_count": 25,
   "metadata": {},
   "outputs": [
    {
     "name": "stderr",
     "output_type": "stream",
     "text": [
      "/Users/shuchengyan/anaconda3/lib/python3.6/site-packages/ipykernel_launcher.py:4: SettingWithCopyWarning: \n",
      "A value is trying to be set on a copy of a slice from a DataFrame.\n",
      "Try using .loc[row_indexer,col_indexer] = value instead\n",
      "\n",
      "See the caveats in the documentation: http://pandas.pydata.org/pandas-docs/stable/indexing.html#indexing-view-versus-copy\n",
      "  after removing the cwd from sys.path.\n"
     ]
    },
    {
     "data": {
      "text/plain": [
       "{0: 'Failure to Yield Right-of-Way',\n",
       " 1: 'Fatigued/Drowsy',\n",
       " 2: 'Turning Improperly',\n",
       " 3: 'Unsafe Lane Changing'}"
      ]
     },
     "execution_count": 25,
     "metadata": {},
     "output_type": "execute_result"
    }
   ],
   "source": [
    "#encode target variable\n",
    "from sklearn.preprocessing import LabelEncoder\n",
    "lb_make = LabelEncoder()\n",
    "df2['CONTRIBUTING FACTOR VEHICLE 1'] = lb_make.fit_transform(df2['CONTRIBUTING FACTOR VEHICLE 1'])\n",
    "\n",
    "mapping = {index : label for index,label in enumerate(lb_make.classes_)}\n",
    "mapping\n"
   ]
  },
  {
   "cell_type": "markdown",
   "metadata": {},
   "source": [
    "## vehicle type"
   ]
  },
  {
   "cell_type": "code",
   "execution_count": 26,
   "metadata": {
    "scrolled": false
   },
   "outputs": [
    {
     "data": {
      "text/plain": [
       "<matplotlib.axes._subplots.AxesSubplot at 0x114f68358>"
      ]
     },
     "execution_count": 26,
     "metadata": {},
     "output_type": "execute_result"
    },
    {
     "data": {
      "image/png": "[encoded data removed]",
      "text/plain": [
       "<Figure size 1296x432 with 1 Axes>"
      ]
     },
     "metadata": {},
     "output_type": "display_data"
    }
   ],
   "source": [
    "#distribution of vehicle type in the data set\n",
    "plt.figure(figsize=(18,6))\n",
    "df2['VEHICLE TYPE CODE 1'].value_counts().plot(kind = 'bar')"
   ]
  },
  {
   "cell_type": "code",
   "execution_count": 27,
   "metadata": {},
   "outputs": [],
   "source": [
    "p1 = df2.groupby(['VEHICLE TYPE CODE 1']).size()\n",
    "#p1 = p.sort_values(ascending = False)\n",
    "#p1.keys()"
   ]
  },
  {
   "cell_type": "code",
   "execution_count": 28,
   "metadata": {
    "scrolled": true
   },
   "outputs": [],
   "source": [
    "p1.sort_values(ascending = False, inplace=True)"
   ]
  },
  {
   "cell_type": "code",
   "execution_count": 29,
   "metadata": {
    "scrolled": true
   },
   "outputs": [
    {
     "data": {
      "text/plain": [
       "VEHICLE TYPE CODE 1\n",
       "PASSENGER VEHICLE                      22704\n",
       "SPORT UTILITY / STATION WAGON          13417\n",
       "TAXI                                    2286\n",
       "PICK-UP TRUCK                           1074\n",
       "BICYCLE                                  264\n",
       "VAN                                      223\n",
       "MOTORCYCLE                               194\n",
       "LIVERY VEHICLE                           165\n",
       "OTHER                                    151\n",
       "TK                                       122\n",
       "BU                                       111\n",
       "SMALL COM VEH(4 TIRES)                   100\n",
       "UNKNOWN                                   98\n",
       "BUS                                       88\n",
       "LARGE COM VEH(6 OR MORE TIRES)            68\n",
       "DS                                        68\n",
       "VN                                        38\n",
       "DP                                        27\n",
       "CONV                                      21\n",
       "AM                                        13\n",
       "4 dr sedan                                12\n",
       "FB                                        12\n",
       "Station Wagon/Sport Utility Vehicle       11\n",
       "PK                                        10\n",
       "FIRE TRUCK                                10\n",
       "AMBULANCE                                  9\n",
       "Sedan                                      8\n",
       "CM                                         8\n",
       "GG                                         8\n",
       "TT                                         8\n",
       "                                       ...  \n",
       "PL                                         2\n",
       "MOPED                                      1\n",
       "Tractor Truck Diesel                       1\n",
       "Tractor Truck Gasoline                     1\n",
       "USPS                                       1\n",
       "VC                                         1\n",
       "BR                                         1\n",
       "ST                                         1\n",
       "ambul                                      1\n",
       "bus                                        1\n",
       "dp                                         1\n",
       "forkl                                      1\n",
       "garba                                      1\n",
       "TRACT                                      1\n",
       "DUMP                                       1\n",
       "SCOOTER                                    1\n",
       "Mo pa                                      1\n",
       "Dump                                       1\n",
       "ELECT                                      1\n",
       "EN                                         1\n",
       "SCHOO                                      1\n",
       "FDNY                                       1\n",
       "FLAT                                       1\n",
       "FR                                         1\n",
       "Pick                                       1\n",
       "Humme                                      1\n",
       "LF                                         1\n",
       "PEDIC                                      1\n",
       "unk                                        1\n",
       "van                                        1\n",
       "Length: 78, dtype: int64"
      ]
     },
     "execution_count": 29,
     "metadata": {},
     "output_type": "execute_result"
    }
   ],
   "source": [
    "#only take the top 4 categories, put other vehicle categories into \"other\"p1\n",
    "p1"
   ]
  },
  {
   "cell_type": "code",
   "execution_count": 30,
   "metadata": {},
   "outputs": [
    {
     "data": {
      "text/plain": [
       "['PASSENGER VEHICLE', 'SPORT UTILITY / STATION WAGON', 'TAXI', 'PICK-UP TRUCK']"
      ]
     },
     "execution_count": 30,
     "metadata": {},
     "output_type": "execute_result"
    }
   ],
   "source": [
    "top4 = p1[:4]\n",
    "list(top4.keys())"
   ]
  },
  {
   "cell_type": "code",
   "execution_count": 31,
   "metadata": {},
   "outputs": [],
   "source": [
    "top4 = list(top4.keys())\n",
    "def convert_vehicle_type(veh):\n",
    "    if veh in top4:\n",
    "        return veh\n",
    "    else:\n",
    "        return 'other'"
   ]
  },
  {
   "cell_type": "code",
   "execution_count": 32,
   "metadata": {
    "scrolled": false
   },
   "outputs": [
    {
     "name": "stderr",
     "output_type": "stream",
     "text": [
      "/Users/shuchengyan/anaconda3/lib/python3.6/site-packages/ipykernel_launcher.py:1: SettingWithCopyWarning: \n",
      "A value is trying to be set on a copy of a slice from a DataFrame.\n",
      "Try using .loc[row_indexer,col_indexer] = value instead\n",
      "\n",
      "See the caveats in the documentation: http://pandas.pydata.org/pandas-docs/stable/indexing.html#indexing-view-versus-copy\n",
      "  \"\"\"Entry point for launching an IPython kernel.\n"
     ]
    }
   ],
   "source": [
    "df2['VEHICLE TYPE CODE 1'] = df2['VEHICLE TYPE CODE 1'].map(convert_vehicle_type)"
   ]
  },
  {
   "cell_type": "code",
   "execution_count": 33,
   "metadata": {},
   "outputs": [
    {
     "data": {
      "text/plain": [
       "<matplotlib.axes._subplots.AxesSubplot at 0x1a167cc9e8>"
      ]
     },
     "execution_count": 33,
     "metadata": {},
     "output_type": "execute_result"
    },
    {
     "data": {
      "image/png": "[encoded data removed]",
      "text/plain": [
       "<Figure size 1296x432 with 1 Axes>"
      ]
     },
     "metadata": {},
     "output_type": "display_data"
    }
   ],
   "source": [
    "#after transformation\n",
    "plt.figure(figsize=(18,6))\n",
    "df2['VEHICLE TYPE CODE 1'].value_counts().plot(kind = 'bar')"
   ]
  },
  {
   "cell_type": "code",
   "execution_count": 34,
   "metadata": {
    "scrolled": true
   },
   "outputs": [],
   "source": [
    "#encode vehicle type\n",
    "# df2['VEHICLE TYPE CODE 1'] = df2['VEHICLE TYPE CODE 1'].astype(str)\n",
    "# lb_make1 = LabelEncoder()\n",
    "# df2['VEHICLE TYPE CODE 1'] = lb_make1.fit_transform(df2['VEHICLE TYPE CODE 1'])\n",
    "\n",
    "# mapping1 = {index : label for index,label in enumerate(lb_make1.classes_)}\n",
    "# mapping1"
   ]
  },
  {
   "cell_type": "code",
   "execution_count": 35,
   "metadata": {},
   "outputs": [],
   "source": [
    "df3 = pd.get_dummies(df2, columns=['VEHICLE TYPE CODE 1'])"
   ]
  },
  {
   "cell_type": "code",
   "execution_count": 36,
   "metadata": {},
   "outputs": [
    {
     "data": {
      "text/plain": [
       "Index(['DATE', 'TIME', 'BOROUGH', 'ZIP CODE', 'LATITUDE', 'LONGITUDE',\n",
       "       'LOCATION', 'ON STREET NAME', 'NUMBER OF PERSONS INJURED',\n",
       "       'NUMBER OF PERSONS KILLED', 'NUMBER OF PEDESTRIANS INJURED',\n",
       "       'NUMBER OF PEDESTRIANS KILLED', 'NUMBER OF CYCLIST INJURED',\n",
       "       'NUMBER OF CYCLIST KILLED', 'NUMBER OF MOTORIST INJURED',\n",
       "       'NUMBER OF MOTORIST KILLED', 'CONTRIBUTING FACTOR VEHICLE 1',\n",
       "       'MaxTemperature(° F)', 'AvgTemperature', 'MinTemperature',\n",
       "       'MaxDewPoint(° F)', 'AvgDewPoint', 'MinDewPoint', 'MaxHumidity',\n",
       "       'MinHumidity', 'MaxWindSpeed(mph)', 'MinWindSpeed', 'MaxPressure(Hg)',\n",
       "       'MinPressure', 'Precipation(in)',\n",
       "       'VEHICLE TYPE CODE 1_PASSENGER VEHICLE',\n",
       "       'VEHICLE TYPE CODE 1_PICK-UP TRUCK',\n",
       "       'VEHICLE TYPE CODE 1_SPORT UTILITY / STATION WAGON',\n",
       "       'VEHICLE TYPE CODE 1_TAXI', 'VEHICLE TYPE CODE 1_other'],\n",
       "      dtype='object')"
      ]
     },
     "execution_count": 36,
     "metadata": {},
     "output_type": "execute_result"
    }
   ],
   "source": [
    "df3.columns"
   ]
  },
  {
   "cell_type": "code",
   "execution_count": 37,
   "metadata": {
    "scrolled": false
   },
   "outputs": [
    {
     "data": {
      "text/html": [
       "<div>\n",
       "<style scoped>\n",
       "    .dataframe tbody tr th:only-of-type {\n",
       "        vertical-align: middle;\n",
       "    }\n",
       "\n",
       "    .dataframe tbody tr th {\n",
       "        vertical-align: top;\n",
       "    }\n",
       "\n",
       "    .dataframe thead th {\n",
       "        text-align: right;\n",
       "    }\n",
       "</style>\n",
       "<table border=\"1\" class=\"dataframe\">\n",
       "  <thead>\n",
       "    <tr style=\"text-align: right;\">\n",
       "      <th></th>\n",
       "      <th>VEHICLE TYPE CODE 1_PASSENGER VEHICLE</th>\n",
       "      <th>VEHICLE TYPE CODE 1_PICK-UP TRUCK</th>\n",
       "      <th>VEHICLE TYPE CODE 1_SPORT UTILITY / STATION WAGON</th>\n",
       "      <th>VEHICLE TYPE CODE 1_TAXI</th>\n",
       "      <th>VEHICLE TYPE CODE 1_other</th>\n",
       "    </tr>\n",
       "  </thead>\n",
       "  <tbody>\n",
       "    <tr>\n",
       "      <th>16</th>\n",
       "      <td>0</td>\n",
       "      <td>0</td>\n",
       "      <td>0</td>\n",
       "      <td>1</td>\n",
       "      <td>0</td>\n",
       "    </tr>\n",
       "    <tr>\n",
       "      <th>20</th>\n",
       "      <td>1</td>\n",
       "      <td>0</td>\n",
       "      <td>0</td>\n",
       "      <td>0</td>\n",
       "      <td>0</td>\n",
       "    </tr>\n",
       "    <tr>\n",
       "      <th>34</th>\n",
       "      <td>1</td>\n",
       "      <td>0</td>\n",
       "      <td>0</td>\n",
       "      <td>0</td>\n",
       "      <td>0</td>\n",
       "    </tr>\n",
       "    <tr>\n",
       "      <th>36</th>\n",
       "      <td>0</td>\n",
       "      <td>0</td>\n",
       "      <td>1</td>\n",
       "      <td>0</td>\n",
       "      <td>0</td>\n",
       "    </tr>\n",
       "    <tr>\n",
       "      <th>39</th>\n",
       "      <td>0</td>\n",
       "      <td>0</td>\n",
       "      <td>1</td>\n",
       "      <td>0</td>\n",
       "      <td>0</td>\n",
       "    </tr>\n",
       "  </tbody>\n",
       "</table>\n",
       "</div>"
      ],
      "text/plain": [
       "    VEHICLE TYPE CODE 1_PASSENGER VEHICLE  VEHICLE TYPE CODE 1_PICK-UP TRUCK  \\\n",
       "16                                      0                                  0   \n",
       "20                                      1                                  0   \n",
       "34                                      1                                  0   \n",
       "36                                      0                                  0   \n",
       "39                                      0                                  0   \n",
       "\n",
       "    VEHICLE TYPE CODE 1_SPORT UTILITY / STATION WAGON  \\\n",
       "16                                                  0   \n",
       "20                                                  0   \n",
       "34                                                  0   \n",
       "36                                                  1   \n",
       "39                                                  1   \n",
       "\n",
       "    VEHICLE TYPE CODE 1_TAXI  VEHICLE TYPE CODE 1_other  \n",
       "16                         1                          0  \n",
       "20                         0                          0  \n",
       "34                         0                          0  \n",
       "36                         0                          0  \n",
       "39                         0                          0  "
      ]
     },
     "execution_count": 37,
     "metadata": {},
     "output_type": "execute_result"
    }
   ],
   "source": [
    "df3[[ 'VEHICLE TYPE CODE 1_PASSENGER VEHICLE',\n",
    "       'VEHICLE TYPE CODE 1_PICK-UP TRUCK',\n",
    "       'VEHICLE TYPE CODE 1_SPORT UTILITY / STATION WAGON',\n",
    "       'VEHICLE TYPE CODE 1_TAXI', 'VEHICLE TYPE CODE 1_other']].head()"
   ]
  },
  {
   "cell_type": "markdown",
   "metadata": {},
   "source": [
    "## time features"
   ]
  },
  {
   "cell_type": "code",
   "execution_count": 38,
   "metadata": {},
   "outputs": [
    {
     "data": {
      "text/plain": [
       "DATE                                                  object\n",
       "TIME                                                  object\n",
       "BOROUGH                                               object\n",
       "ZIP CODE                                              object\n",
       "LATITUDE                                             float64\n",
       "LONGITUDE                                            float64\n",
       "LOCATION                                              object\n",
       "ON STREET NAME                                        object\n",
       "NUMBER OF PERSONS INJURED                            float64\n",
       "NUMBER OF PERSONS KILLED                             float64\n",
       "NUMBER OF PEDESTRIANS INJURED                          int64\n",
       "NUMBER OF PEDESTRIANS KILLED                           int64\n",
       "NUMBER OF CYCLIST INJURED                              int64\n",
       "NUMBER OF CYCLIST KILLED                               int64\n",
       "NUMBER OF MOTORIST INJURED                             int64\n",
       "NUMBER OF MOTORIST KILLED                              int64\n",
       "CONTRIBUTING FACTOR VEHICLE 1                          int64\n",
       "MaxTemperature(° F)                                    int64\n",
       "AvgTemperature                                         int64\n",
       "MinTemperature                                         int64\n",
       "MaxDewPoint(° F)                                       int64\n",
       "AvgDewPoint                                            int64\n",
       "MinDewPoint                                            int64\n",
       "MaxHumidity                                          float64\n",
       "MinHumidity                                          float64\n",
       "MaxWindSpeed(mph)                                      int64\n",
       "MinWindSpeed                                           int64\n",
       "MaxPressure(Hg)                                      float64\n",
       "MinPressure                                          float64\n",
       "Precipation(in)                                      float64\n",
       "VEHICLE TYPE CODE 1_PASSENGER VEHICLE                  uint8\n",
       "VEHICLE TYPE CODE 1_PICK-UP TRUCK                      uint8\n",
       "VEHICLE TYPE CODE 1_SPORT UTILITY / STATION WAGON      uint8\n",
       "VEHICLE TYPE CODE 1_TAXI                               uint8\n",
       "VEHICLE TYPE CODE 1_other                              uint8\n",
       "dtype: object"
      ]
     },
     "execution_count": 38,
     "metadata": {},
     "output_type": "execute_result"
    }
   ],
   "source": [
    "df3.dtypes"
   ]
  },
  {
   "cell_type": "code",
   "execution_count": 39,
   "metadata": {},
   "outputs": [],
   "source": [
    "# covert TIME to hour\n",
    "def convert_time(time):\n",
    "    try:\n",
    "        return int(time[:-3])\n",
    "    except:\n",
    "        return 0\n",
    "    \n",
    "df3['TIME'] = df3['TIME'].apply(convert_time)"
   ]
  },
  {
   "cell_type": "code",
   "execution_count": 40,
   "metadata": {},
   "outputs": [],
   "source": [
    "# new feature: day of the week\n",
    "\n",
    "import datetime\n",
    "df3['DATE'] = pd.to_datetime(df3['DATE'])\n"
   ]
  },
  {
   "cell_type": "code",
   "execution_count": 41,
   "metadata": {
    "scrolled": true
   },
   "outputs": [],
   "source": [
    "# new feature: week of the day\n",
    "\n",
    "df3['day_of_week'] = df3['DATE'].apply(lambda x : x.weekday())\n",
    "#df3 = pd.get_dummies(df3, columns=['day_of_week'])"
   ]
  },
  {
   "cell_type": "code",
   "execution_count": 42,
   "metadata": {},
   "outputs": [],
   "source": [
    "# new feature weekday or weekend\n",
    "\n",
    "df3['weeekday'] = df3['day_of_week'].map(lambda x: 1 if x < 5 else 0 )"
   ]
  },
  {
   "cell_type": "code",
   "execution_count": 43,
   "metadata": {},
   "outputs": [
    {
     "data": {
      "text/plain": [
       "32291"
      ]
     },
     "execution_count": 43,
     "metadata": {},
     "output_type": "execute_result"
    }
   ],
   "source": [
    "len(df3[df3['weeekday'] == 1])"
   ]
  },
  {
   "cell_type": "code",
   "execution_count": 44,
   "metadata": {},
   "outputs": [],
   "source": [
    "# new feature: date\n",
    "\n",
    "df3['date'] = df3['DATE'].apply(lambda x : x.day)"
   ]
  },
  {
   "cell_type": "code",
   "execution_count": 45,
   "metadata": {},
   "outputs": [],
   "source": [
    "#new feature: month\n",
    "\n",
    "df3['month'] = df3['DATE'].apply(lambda x : x.month)"
   ]
  },
  {
   "cell_type": "code",
   "execution_count": 46,
   "metadata": {},
   "outputs": [],
   "source": [
    "df3 = pd.get_dummies(df3, columns=['TIME', 'day_of_week', 'month', 'date'])"
   ]
  },
  {
   "cell_type": "code",
   "execution_count": 47,
   "metadata": {},
   "outputs": [],
   "source": [
    "df4 = df3.drop(['DATE'], axis=1)\n"
   ]
  },
  {
   "cell_type": "code",
   "execution_count": 48,
   "metadata": {},
   "outputs": [],
   "source": [
    "# # new feature: neighborhood 'neighbourhood'\n",
    "\n",
    "# def get_neighbor(loc):\n",
    "#     loc = loc.replace(\" \", \"\")\n",
    "#     geolocator = Nominatim()\n",
    "#     location = geolocator.reverse(loc)\n",
    "#     dic = location.raw['address']\n",
    "   \n",
    "#     p = dic.get('neighbourhood', 'missing')\n",
    "#     print(p)\n",
    "#     return p\n",
    "\n",
    "# # new feature: county\n",
    "# def get_county(loc):\n",
    "#     loc = loc.replace(\" \", \"\")\n",
    "#     geolocator = Nominatim()\n",
    "#     location = geolocator.reverse(loc)\n",
    "#     dic = location.raw['address']\n",
    "   \n",
    "#     p = dic.get('county', 'missing')\n",
    "#     print(p)\n",
    "#     return p\n"
   ]
  },
  {
   "cell_type": "markdown",
   "metadata": {},
   "source": [
    "## zipcode filling"
   ]
  },
  {
   "cell_type": "code",
   "execution_count": 49,
   "metadata": {},
   "outputs": [
    {
     "data": {
      "text/plain": [
       "<matplotlib.axes._subplots.AxesSubplot at 0x1a173ce940>"
      ]
     },
     "execution_count": 49,
     "metadata": {},
     "output_type": "execute_result"
    },
    {
     "data": {
      "image/png": "[encoded data removed]",
      "text/plain": [
       "<Figure size 1296x432 with 1 Axes>"
      ]
     },
     "metadata": {},
     "output_type": "display_data"
    }
   ],
   "source": [
    "plt.figure(figsize=(18,6))\n",
    "df['ZIP CODE'].value_counts().plot(kind = 'bar')"
   ]
  },
  {
   "cell_type": "code",
   "execution_count": 50,
   "metadata": {},
   "outputs": [],
   "source": [
    "from uszipcode import SearchEngine\n",
    "fill_zip = SearchEngine(simple_zipcode=True)"
   ]
  },
  {
   "cell_type": "code",
   "execution_count": 51,
   "metadata": {},
   "outputs": [
    {
     "data": {
      "text/html": [
       "<div>\n",
       "<style scoped>\n",
       "    .dataframe tbody tr th:only-of-type {\n",
       "        vertical-align: middle;\n",
       "    }\n",
       "\n",
       "    .dataframe tbody tr th {\n",
       "        vertical-align: top;\n",
       "    }\n",
       "\n",
       "    .dataframe thead th {\n",
       "        text-align: right;\n",
       "    }\n",
       "</style>\n",
       "<table border=\"1\" class=\"dataframe\">\n",
       "  <thead>\n",
       "    <tr style=\"text-align: right;\">\n",
       "      <th></th>\n",
       "      <th>BOROUGH</th>\n",
       "      <th>ZIP CODE</th>\n",
       "      <th>LATITUDE</th>\n",
       "      <th>LONGITUDE</th>\n",
       "      <th>LOCATION</th>\n",
       "      <th>ON STREET NAME</th>\n",
       "      <th>NUMBER OF PERSONS INJURED</th>\n",
       "      <th>NUMBER OF PERSONS KILLED</th>\n",
       "      <th>NUMBER OF PEDESTRIANS INJURED</th>\n",
       "      <th>NUMBER OF PEDESTRIANS KILLED</th>\n",
       "      <th>...</th>\n",
       "      <th>date_22</th>\n",
       "      <th>date_23</th>\n",
       "      <th>date_24</th>\n",
       "      <th>date_25</th>\n",
       "      <th>date_26</th>\n",
       "      <th>date_27</th>\n",
       "      <th>date_28</th>\n",
       "      <th>date_29</th>\n",
       "      <th>date_30</th>\n",
       "      <th>date_31</th>\n",
       "    </tr>\n",
       "  </thead>\n",
       "  <tbody>\n",
       "    <tr>\n",
       "      <th>16</th>\n",
       "      <td>NaN</td>\n",
       "      <td>NaN</td>\n",
       "      <td>40.740532</td>\n",
       "      <td>-73.944510</td>\n",
       "      <td>(40.740532, -73.94451)</td>\n",
       "      <td>LONG ISLAND EXPRESSWAY</td>\n",
       "      <td>0.0</td>\n",
       "      <td>0.0</td>\n",
       "      <td>0</td>\n",
       "      <td>0</td>\n",
       "      <td>...</td>\n",
       "      <td>0</td>\n",
       "      <td>0</td>\n",
       "      <td>0</td>\n",
       "      <td>0</td>\n",
       "      <td>0</td>\n",
       "      <td>0</td>\n",
       "      <td>0</td>\n",
       "      <td>0</td>\n",
       "      <td>0</td>\n",
       "      <td>1</td>\n",
       "    </tr>\n",
       "    <tr>\n",
       "      <th>20</th>\n",
       "      <td>BROOKLYN</td>\n",
       "      <td>11234</td>\n",
       "      <td>40.614876</td>\n",
       "      <td>-73.932106</td>\n",
       "      <td>(40.614876, -73.932106)</td>\n",
       "      <td>KIMBALL STREET</td>\n",
       "      <td>0.0</td>\n",
       "      <td>0.0</td>\n",
       "      <td>0</td>\n",
       "      <td>0</td>\n",
       "      <td>...</td>\n",
       "      <td>0</td>\n",
       "      <td>0</td>\n",
       "      <td>0</td>\n",
       "      <td>0</td>\n",
       "      <td>0</td>\n",
       "      <td>0</td>\n",
       "      <td>0</td>\n",
       "      <td>0</td>\n",
       "      <td>0</td>\n",
       "      <td>1</td>\n",
       "    </tr>\n",
       "    <tr>\n",
       "      <th>34</th>\n",
       "      <td>NaN</td>\n",
       "      <td>NaN</td>\n",
       "      <td>40.722305</td>\n",
       "      <td>-73.844140</td>\n",
       "      <td>(40.722305, -73.84414)</td>\n",
       "      <td>108 STREET</td>\n",
       "      <td>0.0</td>\n",
       "      <td>0.0</td>\n",
       "      <td>0</td>\n",
       "      <td>0</td>\n",
       "      <td>...</td>\n",
       "      <td>0</td>\n",
       "      <td>0</td>\n",
       "      <td>0</td>\n",
       "      <td>0</td>\n",
       "      <td>0</td>\n",
       "      <td>0</td>\n",
       "      <td>0</td>\n",
       "      <td>0</td>\n",
       "      <td>0</td>\n",
       "      <td>1</td>\n",
       "    </tr>\n",
       "    <tr>\n",
       "      <th>36</th>\n",
       "      <td>QUEENS</td>\n",
       "      <td>11413</td>\n",
       "      <td>40.676693</td>\n",
       "      <td>-73.742210</td>\n",
       "      <td>(40.676693, -73.74221)</td>\n",
       "      <td>MERRICK BOULEVARD</td>\n",
       "      <td>2.0</td>\n",
       "      <td>0.0</td>\n",
       "      <td>0</td>\n",
       "      <td>0</td>\n",
       "      <td>...</td>\n",
       "      <td>0</td>\n",
       "      <td>0</td>\n",
       "      <td>0</td>\n",
       "      <td>0</td>\n",
       "      <td>0</td>\n",
       "      <td>0</td>\n",
       "      <td>0</td>\n",
       "      <td>0</td>\n",
       "      <td>0</td>\n",
       "      <td>1</td>\n",
       "    </tr>\n",
       "    <tr>\n",
       "      <th>39</th>\n",
       "      <td>NaN</td>\n",
       "      <td>NaN</td>\n",
       "      <td>40.750890</td>\n",
       "      <td>-73.751130</td>\n",
       "      <td>(40.75089, -73.75113)</td>\n",
       "      <td>HORACE HARDING EXPRESSWAY</td>\n",
       "      <td>0.0</td>\n",
       "      <td>0.0</td>\n",
       "      <td>0</td>\n",
       "      <td>0</td>\n",
       "      <td>...</td>\n",
       "      <td>0</td>\n",
       "      <td>0</td>\n",
       "      <td>0</td>\n",
       "      <td>0</td>\n",
       "      <td>0</td>\n",
       "      <td>0</td>\n",
       "      <td>0</td>\n",
       "      <td>0</td>\n",
       "      <td>0</td>\n",
       "      <td>1</td>\n",
       "    </tr>\n",
       "  </tbody>\n",
       "</table>\n",
       "<p>5 rows × 108 columns</p>\n",
       "</div>"
      ],
      "text/plain": [
       "     BOROUGH ZIP CODE   LATITUDE  LONGITUDE                 LOCATION  \\\n",
       "16       NaN      NaN  40.740532 -73.944510   (40.740532, -73.94451)   \n",
       "20  BROOKLYN    11234  40.614876 -73.932106  (40.614876, -73.932106)   \n",
       "34       NaN      NaN  40.722305 -73.844140   (40.722305, -73.84414)   \n",
       "36    QUEENS    11413  40.676693 -73.742210   (40.676693, -73.74221)   \n",
       "39       NaN      NaN  40.750890 -73.751130    (40.75089, -73.75113)   \n",
       "\n",
       "                      ON STREET NAME  NUMBER OF PERSONS INJURED  \\\n",
       "16  LONG ISLAND EXPRESSWAY                                  0.0   \n",
       "20  KIMBALL STREET                                          0.0   \n",
       "34  108 STREET                                              0.0   \n",
       "36  MERRICK BOULEVARD                                       2.0   \n",
       "39  HORACE HARDING EXPRESSWAY                               0.0   \n",
       "\n",
       "    NUMBER OF PERSONS KILLED  NUMBER OF PEDESTRIANS INJURED  \\\n",
       "16                       0.0                              0   \n",
       "20                       0.0                              0   \n",
       "34                       0.0                              0   \n",
       "36                       0.0                              0   \n",
       "39                       0.0                              0   \n",
       "\n",
       "    NUMBER OF PEDESTRIANS KILLED   ...     date_22  date_23  date_24  date_25  \\\n",
       "16                             0   ...           0        0        0        0   \n",
       "20                             0   ...           0        0        0        0   \n",
       "34                             0   ...           0        0        0        0   \n",
       "36                             0   ...           0        0        0        0   \n",
       "39                             0   ...           0        0        0        0   \n",
       "\n",
       "    date_26  date_27  date_28  date_29  date_30  date_31  \n",
       "16        0        0        0        0        0        1  \n",
       "20        0        0        0        0        0        1  \n",
       "34        0        0        0        0        0        1  \n",
       "36        0        0        0        0        0        1  \n",
       "39        0        0        0        0        0        1  \n",
       "\n",
       "[5 rows x 108 columns]"
      ]
     },
     "execution_count": 51,
     "metadata": {},
     "output_type": "execute_result"
    }
   ],
   "source": [
    "df4.head()"
   ]
  },
  {
   "cell_type": "code",
   "execution_count": 52,
   "metadata": {
    "scrolled": true
   },
   "outputs": [],
   "source": [
    "# filling missing zipcde\n",
    "for i in range(0, len(df4)):\n",
    "    \n",
    "    if pd.notnull(df4.iloc[i, 1]):\n",
    "        df4.iloc[i, 1] = str(df4.iloc[i, 1])[:-2]\n",
    "    else: \n",
    "        res = fill_zip.by_coordinates(df4.iloc[i, 2], df4.iloc[i, 3], radius=30, returns=1)\n",
    "        if len(res) >= 1:\n",
    "            df4.iloc[i, 1] = res[0].zipcode\n",
    "        else:\n",
    "            pass\n",
    "        \n",
    "        \n",
    "#         loc = (str(df2.iloc[i, 4]) + ',' + str(df2.iloc[i, 5]))\n",
    "#         geolocator = Nominatim()\n",
    "#     #location = geolocator.geocode(\"WILSON AVENUE NYC\")\n",
    "#         location = geolocator.reverse(loc)\n",
    "\n",
    "#         #df2.iloc[i, 3] = str(location.raw['address']['postcode'])\n",
    "#         if 'neighbourhood' in location.raw['address']:\n",
    "#             print(location.raw['address']['neighbourhood'])\n",
    "#         else:\n",
    "#             print('missing')\n"
   ]
  },
  {
   "cell_type": "code",
   "execution_count": 53,
   "metadata": {
    "scrolled": true
   },
   "outputs": [],
   "source": [
    "#clean missing zipcode\n",
    "df4 = df4[df4['ZIP CODE'] == df4['ZIP CODE']]"
   ]
  },
  {
   "cell_type": "code",
   "execution_count": 54,
   "metadata": {},
   "outputs": [
    {
     "data": {
      "text/plain": [
       "0.0"
      ]
     },
     "execution_count": 54,
     "metadata": {},
     "output_type": "execute_result"
    }
   ],
   "source": [
    "#check\n",
    "sum(df4['ZIP CODE'].isnull()) / len(df4)"
   ]
  },
  {
   "cell_type": "markdown",
   "metadata": {},
   "source": [
    "## zipcode information extraction"
   ]
  },
  {
   "cell_type": "code",
   "execution_count": 55,
   "metadata": {},
   "outputs": [
    {
     "data": {
      "text/plain": [
       "'11375'"
      ]
     },
     "execution_count": 55,
     "metadata": {},
     "output_type": "execute_result"
    }
   ],
   "source": [
    "df4.iloc[2,1]"
   ]
  },
  {
   "cell_type": "code",
   "execution_count": 56,
   "metadata": {},
   "outputs": [
    {
     "data": {
      "text/html": [
       "<div>\n",
       "<style scoped>\n",
       "    .dataframe tbody tr th:only-of-type {\n",
       "        vertical-align: middle;\n",
       "    }\n",
       "\n",
       "    .dataframe tbody tr th {\n",
       "        vertical-align: top;\n",
       "    }\n",
       "\n",
       "    .dataframe thead th {\n",
       "        text-align: right;\n",
       "    }\n",
       "</style>\n",
       "<table border=\"1\" class=\"dataframe\">\n",
       "  <thead>\n",
       "    <tr style=\"text-align: right;\">\n",
       "      <th></th>\n",
       "      <th>BOROUGH</th>\n",
       "      <th>ZIP CODE</th>\n",
       "      <th>LATITUDE</th>\n",
       "      <th>LONGITUDE</th>\n",
       "      <th>LOCATION</th>\n",
       "      <th>ON STREET NAME</th>\n",
       "      <th>NUMBER OF PERSONS INJURED</th>\n",
       "      <th>NUMBER OF PERSONS KILLED</th>\n",
       "      <th>NUMBER OF PEDESTRIANS INJURED</th>\n",
       "      <th>NUMBER OF PEDESTRIANS KILLED</th>\n",
       "      <th>...</th>\n",
       "      <th>date_22</th>\n",
       "      <th>date_23</th>\n",
       "      <th>date_24</th>\n",
       "      <th>date_25</th>\n",
       "      <th>date_26</th>\n",
       "      <th>date_27</th>\n",
       "      <th>date_28</th>\n",
       "      <th>date_29</th>\n",
       "      <th>date_30</th>\n",
       "      <th>date_31</th>\n",
       "    </tr>\n",
       "  </thead>\n",
       "  <tbody>\n",
       "    <tr>\n",
       "      <th>16</th>\n",
       "      <td>NaN</td>\n",
       "      <td>11101</td>\n",
       "      <td>40.740532</td>\n",
       "      <td>-73.944510</td>\n",
       "      <td>(40.740532, -73.94451)</td>\n",
       "      <td>LONG ISLAND EXPRESSWAY</td>\n",
       "      <td>0.0</td>\n",
       "      <td>0.0</td>\n",
       "      <td>0</td>\n",
       "      <td>0</td>\n",
       "      <td>...</td>\n",
       "      <td>0</td>\n",
       "      <td>0</td>\n",
       "      <td>0</td>\n",
       "      <td>0</td>\n",
       "      <td>0</td>\n",
       "      <td>0</td>\n",
       "      <td>0</td>\n",
       "      <td>0</td>\n",
       "      <td>0</td>\n",
       "      <td>1</td>\n",
       "    </tr>\n",
       "    <tr>\n",
       "      <th>20</th>\n",
       "      <td>BROOKLYN</td>\n",
       "      <td>11234</td>\n",
       "      <td>40.614876</td>\n",
       "      <td>-73.932106</td>\n",
       "      <td>(40.614876, -73.932106)</td>\n",
       "      <td>KIMBALL STREET</td>\n",
       "      <td>0.0</td>\n",
       "      <td>0.0</td>\n",
       "      <td>0</td>\n",
       "      <td>0</td>\n",
       "      <td>...</td>\n",
       "      <td>0</td>\n",
       "      <td>0</td>\n",
       "      <td>0</td>\n",
       "      <td>0</td>\n",
       "      <td>0</td>\n",
       "      <td>0</td>\n",
       "      <td>0</td>\n",
       "      <td>0</td>\n",
       "      <td>0</td>\n",
       "      <td>1</td>\n",
       "    </tr>\n",
       "    <tr>\n",
       "      <th>34</th>\n",
       "      <td>NaN</td>\n",
       "      <td>11375</td>\n",
       "      <td>40.722305</td>\n",
       "      <td>-73.844140</td>\n",
       "      <td>(40.722305, -73.84414)</td>\n",
       "      <td>108 STREET</td>\n",
       "      <td>0.0</td>\n",
       "      <td>0.0</td>\n",
       "      <td>0</td>\n",
       "      <td>0</td>\n",
       "      <td>...</td>\n",
       "      <td>0</td>\n",
       "      <td>0</td>\n",
       "      <td>0</td>\n",
       "      <td>0</td>\n",
       "      <td>0</td>\n",
       "      <td>0</td>\n",
       "      <td>0</td>\n",
       "      <td>0</td>\n",
       "      <td>0</td>\n",
       "      <td>1</td>\n",
       "    </tr>\n",
       "    <tr>\n",
       "      <th>36</th>\n",
       "      <td>QUEENS</td>\n",
       "      <td>11413</td>\n",
       "      <td>40.676693</td>\n",
       "      <td>-73.742210</td>\n",
       "      <td>(40.676693, -73.74221)</td>\n",
       "      <td>MERRICK BOULEVARD</td>\n",
       "      <td>2.0</td>\n",
       "      <td>0.0</td>\n",
       "      <td>0</td>\n",
       "      <td>0</td>\n",
       "      <td>...</td>\n",
       "      <td>0</td>\n",
       "      <td>0</td>\n",
       "      <td>0</td>\n",
       "      <td>0</td>\n",
       "      <td>0</td>\n",
       "      <td>0</td>\n",
       "      <td>0</td>\n",
       "      <td>0</td>\n",
       "      <td>0</td>\n",
       "      <td>1</td>\n",
       "    </tr>\n",
       "    <tr>\n",
       "      <th>39</th>\n",
       "      <td>NaN</td>\n",
       "      <td>11364</td>\n",
       "      <td>40.750890</td>\n",
       "      <td>-73.751130</td>\n",
       "      <td>(40.75089, -73.75113)</td>\n",
       "      <td>HORACE HARDING EXPRESSWAY</td>\n",
       "      <td>0.0</td>\n",
       "      <td>0.0</td>\n",
       "      <td>0</td>\n",
       "      <td>0</td>\n",
       "      <td>...</td>\n",
       "      <td>0</td>\n",
       "      <td>0</td>\n",
       "      <td>0</td>\n",
       "      <td>0</td>\n",
       "      <td>0</td>\n",
       "      <td>0</td>\n",
       "      <td>0</td>\n",
       "      <td>0</td>\n",
       "      <td>0</td>\n",
       "      <td>1</td>\n",
       "    </tr>\n",
       "  </tbody>\n",
       "</table>\n",
       "<p>5 rows × 108 columns</p>\n",
       "</div>"
      ],
      "text/plain": [
       "     BOROUGH ZIP CODE   LATITUDE  LONGITUDE                 LOCATION  \\\n",
       "16       NaN    11101  40.740532 -73.944510   (40.740532, -73.94451)   \n",
       "20  BROOKLYN    11234  40.614876 -73.932106  (40.614876, -73.932106)   \n",
       "34       NaN    11375  40.722305 -73.844140   (40.722305, -73.84414)   \n",
       "36    QUEENS    11413  40.676693 -73.742210   (40.676693, -73.74221)   \n",
       "39       NaN    11364  40.750890 -73.751130    (40.75089, -73.75113)   \n",
       "\n",
       "                      ON STREET NAME  NUMBER OF PERSONS INJURED  \\\n",
       "16  LONG ISLAND EXPRESSWAY                                  0.0   \n",
       "20  KIMBALL STREET                                          0.0   \n",
       "34  108 STREET                                              0.0   \n",
       "36  MERRICK BOULEVARD                                       2.0   \n",
       "39  HORACE HARDING EXPRESSWAY                               0.0   \n",
       "\n",
       "    NUMBER OF PERSONS KILLED  NUMBER OF PEDESTRIANS INJURED  \\\n",
       "16                       0.0                              0   \n",
       "20                       0.0                              0   \n",
       "34                       0.0                              0   \n",
       "36                       0.0                              0   \n",
       "39                       0.0                              0   \n",
       "\n",
       "    NUMBER OF PEDESTRIANS KILLED   ...     date_22  date_23  date_24  date_25  \\\n",
       "16                             0   ...           0        0        0        0   \n",
       "20                             0   ...           0        0        0        0   \n",
       "34                             0   ...           0        0        0        0   \n",
       "36                             0   ...           0        0        0        0   \n",
       "39                             0   ...           0        0        0        0   \n",
       "\n",
       "    date_26  date_27  date_28  date_29  date_30  date_31  \n",
       "16        0        0        0        0        0        1  \n",
       "20        0        0        0        0        0        1  \n",
       "34        0        0        0        0        0        1  \n",
       "36        0        0        0        0        0        1  \n",
       "39        0        0        0        0        0        1  \n",
       "\n",
       "[5 rows x 108 columns]"
      ]
     },
     "execution_count": 56,
     "metadata": {},
     "output_type": "execute_result"
    }
   ],
   "source": [
    "df4.head()"
   ]
  },
  {
   "cell_type": "code",
   "execution_count": 57,
   "metadata": {},
   "outputs": [],
   "source": [
    "search = SearchEngine(simple_zipcode=False)"
   ]
  },
  {
   "cell_type": "code",
   "execution_count": 58,
   "metadata": {},
   "outputs": [],
   "source": [
    "keys = ['population', 'population_density', 'housing_units', 'occupied_housing_units', \n",
    "       'median_home_value', 'median_household_income' ]\n",
    "\n",
    "all_keys = ['population', 'population_density', 'housing_units', 'occupied_housing_units', \n",
    "       'median_home_value', 'median_household_income' ]\n",
    "\n",
    "demo = []\n",
    "\n",
    "for i in range(0, len(df4)):\n",
    "    dic = search.by_zipcode(df4.iloc[i, 1]).to_dict()\n",
    "    \n",
    "    temp = [dic[key] for key in keys]\n",
    "    \n",
    "    \n",
    "    if dic['population_by_age']:\n",
    "    \n",
    "        for di in dic['population_by_age'][2]['values']:\n",
    "            if i == 0:\n",
    "                all_keys.append('age range ' + di['x'])\n",
    "            temp.append(di['y'])\n",
    "            \n",
    "            \n",
    "            \n",
    "    if dic['population_by_race']:\n",
    "    \n",
    "        for di in dic['population_by_race'][0]['values']:\n",
    "            if i == 0:\n",
    "                all_keys.append('race_' + di['x'])\n",
    "            temp.append(di['y'])           \n",
    "    \n",
    "    \n",
    "    if dic['population_by_gender']:\n",
    "    \n",
    "        for di in dic['population_by_gender'][0]['values']:\n",
    "            if i == 0:\n",
    "                all_keys.append('gender_' + di['x'])\n",
    "            temp.append(di['y'])\n",
    "\n",
    "\n",
    "    if dic['household_income']:\n",
    "    \n",
    "        for di in dic['household_income'][0]['values']:\n",
    "            if i == 0:\n",
    "                all_keys.append('household income_' + di['x'])\n",
    "            temp.append(di['y'])\n",
    "            \n",
    "            \n",
    "    if dic['educational_attainment_for_population_25_and_over']:\n",
    "    \n",
    "        for di in dic['educational_attainment_for_population_25_and_over'][0]['values']:\n",
    "            if i == 0:\n",
    "                all_keys.append('education_' + di['x'])\n",
    "            temp.append(di['y'])\n",
    "    \n",
    "    \n",
    "    if dic['year_housing_was_built']:\n",
    "    \n",
    "        for di in dic['year_housing_was_built'][0]['values']:\n",
    "            if i == 0:\n",
    "                all_keys.append('year_house_built_' + di['x'])\n",
    "            temp.append(di['y'])\n",
    "            \n",
    "            \n",
    "    if dic['means_of_transportation_to_work_for_workers_16_and_over']:\n",
    "    \n",
    "        for di in dic['means_of_transportation_to_work_for_workers_16_and_over'][0]['values']:\n",
    "            if i == 0:\n",
    "                all_keys.append('trans_to_work' + di['x'])\n",
    "            temp.append(di['y'])\n",
    "            \n",
    "            \n",
    "    if dic['travel_time_to_work_in_minutes']:\n",
    "    \n",
    "        for di in dic['travel_time_to_work_in_minutes'][0]['values']:\n",
    "            if i == 0:\n",
    "                all_keys.append('minute_to_work' + di['x'])\n",
    "            temp.append(di['y'])            \n",
    "    \n",
    "    demo.append(temp)"
   ]
  },
  {
   "cell_type": "code",
   "execution_count": 59,
   "metadata": {},
   "outputs": [
    {
     "data": {
      "text/plain": [
       "['population',\n",
       " 'population_density',\n",
       " 'housing_units',\n",
       " 'occupied_housing_units',\n",
       " 'median_home_value',\n",
       " 'median_household_income',\n",
       " 'age range Under 5',\n",
       " 'age range 5-9',\n",
       " 'age range 10-14',\n",
       " 'age range 15-19',\n",
       " 'age range 20-24',\n",
       " 'age range 25-29',\n",
       " 'age range 30-34',\n",
       " 'age range 35-39',\n",
       " 'age range 40-44',\n",
       " 'age range 45-49',\n",
       " 'age range 50-54',\n",
       " 'age range 55-59',\n",
       " 'age range 60-64',\n",
       " 'age range 65-69',\n",
       " 'age range 70-74',\n",
       " 'age range 75-79',\n",
       " 'age range 80-84',\n",
       " 'age range 85 Plus',\n",
       " 'race_White',\n",
       " 'race_Black Or African American',\n",
       " 'race_American Indian Or Alaskan Native',\n",
       " 'race_Asian',\n",
       " 'race_Native Hawaiian & Other Pacific Islander',\n",
       " 'race_Other Race',\n",
       " 'race_Two Or More Races',\n",
       " 'gender_Male',\n",
       " 'gender_Female',\n",
       " 'household income_< $25,000',\n",
       " 'household income_$25,000-$44,999',\n",
       " 'household income_$45,000-$59,999',\n",
       " 'household income_$60,000-$99,999',\n",
       " 'household income_$100,000-$149,999',\n",
       " 'household income_$150,000-$199,999',\n",
       " 'household income_$200,000+',\n",
       " 'education_Less Than High School Diploma',\n",
       " 'education_High School Graduate',\n",
       " \"education_Associate's Degree\",\n",
       " \"education_Bachelor's Degree\",\n",
       " \"education_Master's Degree\",\n",
       " 'education_Professional School Degree',\n",
       " 'education_Doctorate Degree',\n",
       " 'year_house_built_1939 Or Earlier',\n",
       " 'year_house_built_1940s',\n",
       " 'year_house_built_1950s',\n",
       " 'year_house_built_1960s',\n",
       " 'year_house_built_1970s',\n",
       " 'year_house_built_1980s',\n",
       " 'year_house_built_1990s',\n",
       " 'year_house_built_2000s',\n",
       " 'year_house_built_2010 Or Later',\n",
       " 'trans_to_workCar, Truck, Or Van',\n",
       " 'trans_to_workPublic Transportation',\n",
       " 'trans_to_workTaxicab',\n",
       " 'trans_to_workMotorcycle',\n",
       " 'trans_to_workBicycle, Walked, Or Other Means',\n",
       " 'trans_to_workWorked At Home',\n",
       " 'minute_to_work< 10',\n",
       " 'minute_to_work10-19',\n",
       " 'minute_to_work20-29',\n",
       " 'minute_to_work30-39',\n",
       " 'minute_to_work40-44',\n",
       " 'minute_to_work45-59',\n",
       " 'minute_to_work60-89',\n",
       " 'minute_to_work90+']"
      ]
     },
     "execution_count": 59,
     "metadata": {},
     "output_type": "execute_result"
    }
   ],
   "source": [
    "all_keys"
   ]
  },
  {
   "cell_type": "code",
   "execution_count": 60,
   "metadata": {
    "scrolled": true
   },
   "outputs": [
    {
     "data": {
      "text/plain": [
       "['population',\n",
       " 'population_density',\n",
       " 'housing_units',\n",
       " 'occupied_housing_units',\n",
       " 'median_home_value',\n",
       " 'median_household_income',\n",
       " 'age range Under 5',\n",
       " 'age range 5-9',\n",
       " 'age range 10-14',\n",
       " 'age range 15-19',\n",
       " 'age range 20-24',\n",
       " 'age range 25-29',\n",
       " 'age range 30-34',\n",
       " 'age range 35-39',\n",
       " 'age range 40-44',\n",
       " 'age range 45-49',\n",
       " 'age range 50-54',\n",
       " 'age range 55-59',\n",
       " 'age range 60-64',\n",
       " 'age range 65-69',\n",
       " 'age range 70-74',\n",
       " 'age range 75-79',\n",
       " 'age range 80-84',\n",
       " 'age range 85 Plus',\n",
       " 'race_White',\n",
       " 'race_Black Or African American',\n",
       " 'race_American Indian Or Alaskan Native',\n",
       " 'race_Asian',\n",
       " 'race_Native Hawaiian & Other Pacific Islander',\n",
       " 'race_Other Race',\n",
       " 'race_Two Or More Races',\n",
       " 'gender_Male',\n",
       " 'gender_Female',\n",
       " 'household income_< $25,000',\n",
       " 'household income_$25,000-$44,999',\n",
       " 'household income_$45,000-$59,999',\n",
       " 'household income_$60,000-$99,999',\n",
       " 'household income_$100,000-$149,999',\n",
       " 'household income_$150,000-$199,999',\n",
       " 'household income_$200,000+',\n",
       " 'education_Less Than High School Diploma',\n",
       " 'education_High School Graduate',\n",
       " \"education_Associate's Degree\",\n",
       " \"education_Bachelor's Degree\",\n",
       " \"education_Master's Degree\",\n",
       " 'education_Professional School Degree',\n",
       " 'education_Doctorate Degree',\n",
       " 'year_house_built_1939 Or Earlier',\n",
       " 'year_house_built_1940s',\n",
       " 'year_house_built_1950s',\n",
       " 'year_house_built_1960s',\n",
       " 'year_house_built_1970s',\n",
       " 'year_house_built_1980s',\n",
       " 'year_house_built_1990s',\n",
       " 'year_house_built_2000s',\n",
       " 'year_house_built_2010 Or Later',\n",
       " 'trans_to_workCar, Truck, Or Van',\n",
       " 'trans_to_workPublic Transportation',\n",
       " 'trans_to_workTaxicab',\n",
       " 'trans_to_workMotorcycle',\n",
       " 'trans_to_workBicycle, Walked, Or Other Means',\n",
       " 'trans_to_workWorked At Home',\n",
       " 'minute_to_work< 10',\n",
       " 'minute_to_work10-19',\n",
       " 'minute_to_work20-29',\n",
       " 'minute_to_work30-39',\n",
       " 'minute_to_work40-44',\n",
       " 'minute_to_work45-59',\n",
       " 'minute_to_work60-89',\n",
       " 'minute_to_work90+']"
      ]
     },
     "execution_count": 60,
     "metadata": {},
     "output_type": "execute_result"
    }
   ],
   "source": [
    "all_keys"
   ]
  },
  {
   "cell_type": "code",
   "execution_count": 61,
   "metadata": {},
   "outputs": [],
   "source": [
    "df_demo = pd.DataFrame(demo, index=df4.index, columns=all_keys)"
   ]
  },
  {
   "cell_type": "code",
   "execution_count": 62,
   "metadata": {
    "scrolled": true
   },
   "outputs": [],
   "source": [
    "df_demo = df_demo.fillna(df_demo.mean())"
   ]
  },
  {
   "cell_type": "code",
   "execution_count": 63,
   "metadata": {},
   "outputs": [
    {
     "data": {
      "text/html": [
       "<div>\n",
       "<style scoped>\n",
       "    .dataframe tbody tr th:only-of-type {\n",
       "        vertical-align: middle;\n",
       "    }\n",
       "\n",
       "    .dataframe tbody tr th {\n",
       "        vertical-align: top;\n",
       "    }\n",
       "\n",
       "    .dataframe thead th {\n",
       "        text-align: right;\n",
       "    }\n",
       "</style>\n",
       "<table border=\"1\" class=\"dataframe\">\n",
       "  <thead>\n",
       "    <tr style=\"text-align: right;\">\n",
       "      <th></th>\n",
       "      <th>population</th>\n",
       "      <th>population_density</th>\n",
       "      <th>housing_units</th>\n",
       "      <th>occupied_housing_units</th>\n",
       "      <th>median_home_value</th>\n",
       "      <th>median_household_income</th>\n",
       "      <th>age range Under 5</th>\n",
       "      <th>age range 5-9</th>\n",
       "      <th>age range 10-14</th>\n",
       "      <th>age range 15-19</th>\n",
       "      <th>...</th>\n",
       "      <th>trans_to_workBicycle, Walked, Or Other Means</th>\n",
       "      <th>trans_to_workWorked At Home</th>\n",
       "      <th>minute_to_work&lt; 10</th>\n",
       "      <th>minute_to_work10-19</th>\n",
       "      <th>minute_to_work20-29</th>\n",
       "      <th>minute_to_work30-39</th>\n",
       "      <th>minute_to_work40-44</th>\n",
       "      <th>minute_to_work45-59</th>\n",
       "      <th>minute_to_work60-89</th>\n",
       "      <th>minute_to_work90+</th>\n",
       "    </tr>\n",
       "  </thead>\n",
       "  <tbody>\n",
       "    <tr>\n",
       "      <th>16</th>\n",
       "      <td>25484.0</td>\n",
       "      <td>9744.0</td>\n",
       "      <td>12317.0</td>\n",
       "      <td>10429.0</td>\n",
       "      <td>654900.0</td>\n",
       "      <td>47142.0</td>\n",
       "      <td>1440.0</td>\n",
       "      <td>1254.0</td>\n",
       "      <td>1259.0</td>\n",
       "      <td>1518.0</td>\n",
       "      <td>...</td>\n",
       "      <td>992.0</td>\n",
       "      <td>328.0</td>\n",
       "      <td>366.0</td>\n",
       "      <td>1597.0</td>\n",
       "      <td>2339.0</td>\n",
       "      <td>3394.0</td>\n",
       "      <td>977.0</td>\n",
       "      <td>1791.0</td>\n",
       "      <td>1180.0</td>\n",
       "      <td>241.0</td>\n",
       "    </tr>\n",
       "    <tr>\n",
       "      <th>20</th>\n",
       "      <td>87757.0</td>\n",
       "      <td>11627.0</td>\n",
       "      <td>33714.0</td>\n",
       "      <td>31213.0</td>\n",
       "      <td>488200.0</td>\n",
       "      <td>68431.0</td>\n",
       "      <td>5278.0</td>\n",
       "      <td>5531.0</td>\n",
       "      <td>5681.0</td>\n",
       "      <td>5981.0</td>\n",
       "      <td>...</td>\n",
       "      <td>2029.0</td>\n",
       "      <td>1277.0</td>\n",
       "      <td>1856.0</td>\n",
       "      <td>6379.0</td>\n",
       "      <td>5385.0</td>\n",
       "      <td>7075.0</td>\n",
       "      <td>2052.0</td>\n",
       "      <td>5075.0</td>\n",
       "      <td>10075.0</td>\n",
       "      <td>3620.0</td>\n",
       "    </tr>\n",
       "    <tr>\n",
       "      <th>34</th>\n",
       "      <td>68733.0</td>\n",
       "      <td>34707.0</td>\n",
       "      <td>34631.0</td>\n",
       "      <td>32547.0</td>\n",
       "      <td>358300.0</td>\n",
       "      <td>72000.0</td>\n",
       "      <td>3853.0</td>\n",
       "      <td>2934.0</td>\n",
       "      <td>2450.0</td>\n",
       "      <td>2441.0</td>\n",
       "      <td>...</td>\n",
       "      <td>2486.0</td>\n",
       "      <td>1519.0</td>\n",
       "      <td>1044.0</td>\n",
       "      <td>2858.0</td>\n",
       "      <td>3674.0</td>\n",
       "      <td>5563.0</td>\n",
       "      <td>4101.0</td>\n",
       "      <td>7398.0</td>\n",
       "      <td>7146.0</td>\n",
       "      <td>1233.0</td>\n",
       "    </tr>\n",
       "    <tr>\n",
       "      <th>36</th>\n",
       "      <td>38912.0</td>\n",
       "      <td>12553.0</td>\n",
       "      <td>12975.0</td>\n",
       "      <td>12227.0</td>\n",
       "      <td>406200.0</td>\n",
       "      <td>78667.0</td>\n",
       "      <td>2048.0</td>\n",
       "      <td>2356.0</td>\n",
       "      <td>2652.0</td>\n",
       "      <td>2964.0</td>\n",
       "      <td>...</td>\n",
       "      <td>358.0</td>\n",
       "      <td>414.0</td>\n",
       "      <td>469.0</td>\n",
       "      <td>1948.0</td>\n",
       "      <td>2192.0</td>\n",
       "      <td>3781.0</td>\n",
       "      <td>612.0</td>\n",
       "      <td>2365.0</td>\n",
       "      <td>4458.0</td>\n",
       "      <td>2664.0</td>\n",
       "    </tr>\n",
       "    <tr>\n",
       "      <th>39</th>\n",
       "      <td>34555.0</td>\n",
       "      <td>14013.0</td>\n",
       "      <td>13835.0</td>\n",
       "      <td>13287.0</td>\n",
       "      <td>510800.0</td>\n",
       "      <td>72909.0</td>\n",
       "      <td>1515.0</td>\n",
       "      <td>1766.0</td>\n",
       "      <td>2053.0</td>\n",
       "      <td>2053.0</td>\n",
       "      <td>...</td>\n",
       "      <td>495.0</td>\n",
       "      <td>600.0</td>\n",
       "      <td>714.0</td>\n",
       "      <td>2353.0</td>\n",
       "      <td>2186.0</td>\n",
       "      <td>2589.0</td>\n",
       "      <td>912.0</td>\n",
       "      <td>1545.0</td>\n",
       "      <td>3172.0</td>\n",
       "      <td>1748.0</td>\n",
       "    </tr>\n",
       "  </tbody>\n",
       "</table>\n",
       "<p>5 rows × 70 columns</p>\n",
       "</div>"
      ],
      "text/plain": [
       "    population  population_density  housing_units  occupied_housing_units  \\\n",
       "16     25484.0              9744.0        12317.0                 10429.0   \n",
       "20     87757.0             11627.0        33714.0                 31213.0   \n",
       "34     68733.0             34707.0        34631.0                 32547.0   \n",
       "36     38912.0             12553.0        12975.0                 12227.0   \n",
       "39     34555.0             14013.0        13835.0                 13287.0   \n",
       "\n",
       "    median_home_value  median_household_income  age range Under 5  \\\n",
       "16           654900.0                  47142.0             1440.0   \n",
       "20           488200.0                  68431.0             5278.0   \n",
       "34           358300.0                  72000.0             3853.0   \n",
       "36           406200.0                  78667.0             2048.0   \n",
       "39           510800.0                  72909.0             1515.0   \n",
       "\n",
       "    age range 5-9  age range 10-14  age range 15-19        ...          \\\n",
       "16         1254.0           1259.0           1518.0        ...           \n",
       "20         5531.0           5681.0           5981.0        ...           \n",
       "34         2934.0           2450.0           2441.0        ...           \n",
       "36         2356.0           2652.0           2964.0        ...           \n",
       "39         1766.0           2053.0           2053.0        ...           \n",
       "\n",
       "    trans_to_workBicycle, Walked, Or Other Means  trans_to_workWorked At Home  \\\n",
       "16                                         992.0                        328.0   \n",
       "20                                        2029.0                       1277.0   \n",
       "34                                        2486.0                       1519.0   \n",
       "36                                         358.0                        414.0   \n",
       "39                                         495.0                        600.0   \n",
       "\n",
       "    minute_to_work< 10  minute_to_work10-19  minute_to_work20-29  \\\n",
       "16               366.0               1597.0               2339.0   \n",
       "20              1856.0               6379.0               5385.0   \n",
       "34              1044.0               2858.0               3674.0   \n",
       "36               469.0               1948.0               2192.0   \n",
       "39               714.0               2353.0               2186.0   \n",
       "\n",
       "    minute_to_work30-39  minute_to_work40-44  minute_to_work45-59  \\\n",
       "16               3394.0                977.0               1791.0   \n",
       "20               7075.0               2052.0               5075.0   \n",
       "34               5563.0               4101.0               7398.0   \n",
       "36               3781.0                612.0               2365.0   \n",
       "39               2589.0                912.0               1545.0   \n",
       "\n",
       "    minute_to_work60-89  minute_to_work90+  \n",
       "16               1180.0              241.0  \n",
       "20              10075.0             3620.0  \n",
       "34               7146.0             1233.0  \n",
       "36               4458.0             2664.0  \n",
       "39               3172.0             1748.0  \n",
       "\n",
       "[5 rows x 70 columns]"
      ]
     },
     "execution_count": 63,
     "metadata": {},
     "output_type": "execute_result"
    }
   ],
   "source": [
    "df_demo.head()"
   ]
  },
  {
   "cell_type": "code",
   "execution_count": 64,
   "metadata": {},
   "outputs": [],
   "source": [
    "df5 = pd.concat([df4, df_demo], axis=1, join='inner')"
   ]
  },
  {
   "cell_type": "markdown",
   "metadata": {},
   "source": [
    "# Text feature exploration"
   ]
  },
  {
   "cell_type": "code",
   "execution_count": 65,
   "metadata": {
    "scrolled": true
   },
   "outputs": [
    {
     "data": {
      "text/plain": [
       "ON STREET NAME\n",
       "1 AVENUE                            185\n",
       "1 COURT                               1\n",
       "10 AVENUE                           291\n",
       "10 STREET                            10\n",
       "100 AVENUE                            2\n",
       "100 STREET                            5\n",
       "101 AVENUE                           25\n",
       "101 STREET                            4\n",
       "102 AVENUE                            3\n",
       "102 ROAD                              1\n",
       "102 STREET                           10\n",
       "103 AVENUE                           23\n",
       "103 ROAD                              1\n",
       "103 STREET                            7\n",
       "104 AVENUE                            5\n",
       "104 STREET                            7\n",
       "105 AVENUE                            5\n",
       "105 STREET                            2\n",
       "106 STREET                            1\n",
       "107 AVENUE                           15\n",
       "107 STREET                            2\n",
       "108 AVENUE                            3\n",
       "108 STREET                           41\n",
       "109 AVENUE                           24\n",
       "109 ROAD                              1\n",
       "109 STREET                            1\n",
       "11 AVENUE                           175\n",
       "11 PLACE                              1\n",
       "11 STREET                            16\n",
       "110 AVENUE                            5\n",
       "                                   ... \n",
       "Whitestone Expressway Bridge          2\n",
       "Whitestone Expy                      11\n",
       "Williamsburg Bridge                   2\n",
       "Woodhaven Blvd                        2\n",
       "Wythe Ave                             2\n",
       "YATES AVENUE                          3\n",
       "YATES ROAD                            1\n",
       "YELLOWSTONE BOULEVARD                27\n",
       "YETMAN AVENUE                         1\n",
       "YORK AVENUE                          56\n",
       "YORK STREET                           4\n",
       "YUKON AVENUE                          1\n",
       "ZEBRA PLACE                           1\n",
       "ZEISER PLACE                          1\n",
       "ZEREGA AVENUE                        13\n",
       "ZOE STREET                            1\n",
       "ZULETTE AVENUE                        1\n",
       "belt pkwy                             1\n",
       "broadway                              1\n",
       "central avenue                        1\n",
       "east 72 street                        1\n",
       "east macon avenue                     1\n",
       "east tremont avenue                   1\n",
       "exit 5                                1\n",
       "margaret corbin drive                 1\n",
       "pugsley avenue                        1\n",
       "queens plaza east                     1\n",
       "staten island expressway              1\n",
       "vermont pl                            1\n",
       "whitestone expressway                 1\n",
       "Length: 3053, dtype: int64"
      ]
     },
     "execution_count": 65,
     "metadata": {},
     "output_type": "execute_result"
    },
    {
     "data": {
      "image/png": "[encoded data removed]",
      "text/plain": [
       "<Figure size 1296x432 with 1 Axes>"
      ]
     },
     "metadata": {},
     "output_type": "display_data"
    }
   ],
   "source": [
    "#after transformation\n",
    "plt.figure(figsize=(18,6))\n",
    "df4['ON STREET NAME'].value_counts().plot(kind = 'bar')\n",
    "\n",
    "df4.groupby(['ON STREET NAME']).size()"
   ]
  },
  {
   "cell_type": "code",
   "execution_count": 66,
   "metadata": {},
   "outputs": [],
   "source": [
    "s = df4.groupby(['ON STREET NAME']).size()\n",
    "s = s.sort_values(ascending=False)\n"
   ]
  },
  {
   "cell_type": "code",
   "execution_count": 67,
   "metadata": {},
   "outputs": [
    {
     "data": {
      "text/plain": [
       "<matplotlib.axes._subplots.AxesSubplot at 0x1a1d5b6d30>"
      ]
     },
     "execution_count": 67,
     "metadata": {},
     "output_type": "execute_result"
    },
    {
     "data": {
      "image/png": "[encoded data removed]",
      "text/plain": [
       "<Figure size 720x432 with 1 Axes>"
      ]
     },
     "metadata": {},
     "output_type": "display_data"
    }
   ],
   "source": [
    "ss = s[0:30]\n",
    "ss.plot(kind='bar', figsize=(10,6))"
   ]
  },
  {
   "cell_type": "code",
   "execution_count": 68,
   "metadata": {},
   "outputs": [],
   "source": [
    "def convert_street(name):\n",
    "    if name != name:\n",
    "        return 'missing'\n",
    "    else:\n",
    "        return name"
   ]
  },
  {
   "cell_type": "code",
   "execution_count": 69,
   "metadata": {},
   "outputs": [],
   "source": [
    "df4['ON STREET NAME'] = df4['ON STREET NAME'].map(convert_street)"
   ]
  },
  {
   "cell_type": "code",
   "execution_count": 70,
   "metadata": {},
   "outputs": [],
   "source": [
    "corpus = list(df4['ON STREET NAME'])"
   ]
  },
  {
   "cell_type": "code",
   "execution_count": 71,
   "metadata": {},
   "outputs": [
    {
     "name": "stdout",
     "output_type": "stream",
     "text": [
      "['10 avenue', '11 avenue', '65 street', 'atlantic avenue', 'bruckner boulevard', 'conduit avenue', 'flatbush avenue', 'hylan boulevard', 'jamaica avenue', 'liberty avenue', 'linden boulevard', 'main street', 'metropolitan avenue', 'north conduit', 'north conduit avenue', 'northern boulevard', 'park avenue', 'queens boulevard', 'west street', 'woodhaven boulevard']\n",
      "[[0 0 0 ... 0 0 0]\n",
      " [0 0 0 ... 0 0 0]\n",
      " [0 0 0 ... 0 0 0]\n",
      " ...\n",
      " [0 0 0 ... 0 0 1]\n",
      " [0 0 0 ... 0 0 0]\n",
      " [0 0 0 ... 0 0 0]]\n"
     ]
    }
   ],
   "source": [
    "from sklearn.feature_extraction.text import CountVectorizer\n",
    "# corpus = [\n",
    "#     'This is the first document.',\n",
    "#     'This document is the second document.',\n",
    "#    'And this is the third one.',\n",
    "#     'Is this the first document?',\n",
    "# ]\n",
    "vectorizer = CountVectorizer(stop_words='english', ngram_range=(2,3), max_features=20)\n",
    "X = vectorizer.fit_transform(corpus)\n",
    "print(vectorizer.get_feature_names())\n",
    "\n",
    "print(X.toarray())  "
   ]
  },
  {
   "cell_type": "code",
   "execution_count": 72,
   "metadata": {},
   "outputs": [
    {
     "data": {
      "text/plain": [
       "5"
      ]
     },
     "execution_count": 72,
     "metadata": {},
     "output_type": "execute_result"
    }
   ],
   "source": [
    "len(np.unique([i for i in df4['BOROUGH'] if i == i]))"
   ]
  },
  {
   "cell_type": "markdown",
   "metadata": {},
   "source": [
    "## final categorial variable conversion"
   ]
  },
  {
   "cell_type": "code",
   "execution_count": 73,
   "metadata": {
    "scrolled": true
   },
   "outputs": [
    {
     "data": {
      "text/plain": [
       "BOROUGH                                          object\n",
       "ZIP CODE                                         object\n",
       "LATITUDE                                        float64\n",
       "LONGITUDE                                       float64\n",
       "LOCATION                                         object\n",
       "ON STREET NAME                                   object\n",
       "NUMBER OF PERSONS INJURED                       float64\n",
       "NUMBER OF PERSONS KILLED                        float64\n",
       "NUMBER OF PEDESTRIANS INJURED                     int64\n",
       "NUMBER OF PEDESTRIANS KILLED                      int64\n",
       "NUMBER OF CYCLIST INJURED                         int64\n",
       "NUMBER OF CYCLIST KILLED                          int64\n",
       "NUMBER OF MOTORIST INJURED                        int64\n",
       "NUMBER OF MOTORIST KILLED                         int64\n",
       "CONTRIBUTING FACTOR VEHICLE 1                     int64\n",
       "MaxTemperature(° F)                               int64\n",
       "AvgTemperature                                    int64\n",
       "MinTemperature                                    int64\n",
       "MaxDewPoint(° F)                                  int64\n",
       "AvgDewPoint                                       int64\n",
       "MinDewPoint                                       int64\n",
       "MaxHumidity                                     float64\n",
       "MinHumidity                                     float64\n",
       "MaxWindSpeed(mph)                                 int64\n",
       "MinWindSpeed                                      int64\n",
       "MaxPressure(Hg)                                 float64\n",
       "MinPressure                                     float64\n",
       "Precipation(in)                                 float64\n",
       "VEHICLE TYPE CODE 1_PASSENGER VEHICLE             uint8\n",
       "VEHICLE TYPE CODE 1_PICK-UP TRUCK                 uint8\n",
       "                                                 ...   \n",
       "education_Less Than High School Diploma         float64\n",
       "education_High School Graduate                  float64\n",
       "education_Associate's Degree                    float64\n",
       "education_Bachelor's Degree                     float64\n",
       "education_Master's Degree                       float64\n",
       "education_Professional School Degree            float64\n",
       "education_Doctorate Degree                      float64\n",
       "year_house_built_1939 Or Earlier                float64\n",
       "year_house_built_1940s                          float64\n",
       "year_house_built_1950s                          float64\n",
       "year_house_built_1960s                          float64\n",
       "year_house_built_1970s                          float64\n",
       "year_house_built_1980s                          float64\n",
       "year_house_built_1990s                          float64\n",
       "year_house_built_2000s                          float64\n",
       "year_house_built_2010 Or Later                  float64\n",
       "trans_to_workCar, Truck, Or Van                 float64\n",
       "trans_to_workPublic Transportation              float64\n",
       "trans_to_workTaxicab                            float64\n",
       "trans_to_workMotorcycle                         float64\n",
       "trans_to_workBicycle, Walked, Or Other Means    float64\n",
       "trans_to_workWorked At Home                     float64\n",
       "minute_to_work< 10                              float64\n",
       "minute_to_work10-19                             float64\n",
       "minute_to_work20-29                             float64\n",
       "minute_to_work30-39                             float64\n",
       "minute_to_work40-44                             float64\n",
       "minute_to_work45-59                             float64\n",
       "minute_to_work60-89                             float64\n",
       "minute_to_work90+                               float64\n",
       "Length: 178, dtype: object"
      ]
     },
     "execution_count": 73,
     "metadata": {},
     "output_type": "execute_result"
    }
   ],
   "source": [
    "df5.dtypes"
   ]
  },
  {
   "cell_type": "code",
   "execution_count": 74,
   "metadata": {},
   "outputs": [],
   "source": [
    "df6 = pd.get_dummies(df5, columns=['ZIP CODE', 'BOROUGH'], dummy_na=False)"
   ]
  },
  {
   "cell_type": "code",
   "execution_count": 75,
   "metadata": {},
   "outputs": [],
   "source": [
    "# drop all non-numeric feture\n",
    "df6.drop(['LOCATION','ON STREET NAME'], axis=1, inplace=True)"
   ]
  },
  {
   "cell_type": "code",
   "execution_count": 76,
   "metadata": {
    "scrolled": true
   },
   "outputs": [
    {
     "data": {
      "text/plain": [
       "Index(['LATITUDE', 'LONGITUDE', 'NUMBER OF PERSONS INJURED',\n",
       "       'NUMBER OF PERSONS KILLED', 'NUMBER OF PEDESTRIANS INJURED',\n",
       "       'NUMBER OF PEDESTRIANS KILLED', 'NUMBER OF CYCLIST INJURED',\n",
       "       'NUMBER OF CYCLIST KILLED', 'NUMBER OF MOTORIST INJURED',\n",
       "       'NUMBER OF MOTORIST KILLED',\n",
       "       ...\n",
       "       'ZIP CODE_11693', 'ZIP CODE_11694', 'ZIP CODE_11697', 'ZIP CODE_16407',\n",
       "       'ZIP CODE_35757', 'BOROUGH_BRONX', 'BOROUGH_BROOKLYN',\n",
       "       'BOROUGH_MANHATTAN', 'BOROUGH_QUEENS', 'BOROUGH_STATEN ISLAND'],\n",
       "      dtype='object', length=400)"
      ]
     },
     "execution_count": 76,
     "metadata": {},
     "output_type": "execute_result"
    }
   ],
   "source": [
    "df6.columns"
   ]
  },
  {
   "cell_type": "code",
   "execution_count": 77,
   "metadata": {
    "scrolled": true
   },
   "outputs": [
    {
     "data": {
      "text/plain": [
       "LATITUDE                                             float64\n",
       "LONGITUDE                                            float64\n",
       "NUMBER OF PERSONS INJURED                            float64\n",
       "NUMBER OF PERSONS KILLED                             float64\n",
       "NUMBER OF PEDESTRIANS INJURED                          int64\n",
       "NUMBER OF PEDESTRIANS KILLED                           int64\n",
       "NUMBER OF CYCLIST INJURED                              int64\n",
       "NUMBER OF CYCLIST KILLED                               int64\n",
       "NUMBER OF MOTORIST INJURED                             int64\n",
       "NUMBER OF MOTORIST KILLED                              int64\n",
       "CONTRIBUTING FACTOR VEHICLE 1                          int64\n",
       "MaxTemperature(° F)                                    int64\n",
       "AvgTemperature                                         int64\n",
       "MinTemperature                                         int64\n",
       "MaxDewPoint(° F)                                       int64\n",
       "AvgDewPoint                                            int64\n",
       "MinDewPoint                                            int64\n",
       "MaxHumidity                                          float64\n",
       "MinHumidity                                          float64\n",
       "MaxWindSpeed(mph)                                      int64\n",
       "MinWindSpeed                                           int64\n",
       "MaxPressure(Hg)                                      float64\n",
       "MinPressure                                          float64\n",
       "Precipation(in)                                      float64\n",
       "VEHICLE TYPE CODE 1_PASSENGER VEHICLE                  uint8\n",
       "VEHICLE TYPE CODE 1_PICK-UP TRUCK                      uint8\n",
       "VEHICLE TYPE CODE 1_SPORT UTILITY / STATION WAGON      uint8\n",
       "VEHICLE TYPE CODE 1_TAXI                               uint8\n",
       "VEHICLE TYPE CODE 1_other                              uint8\n",
       "weeekday                                               int64\n",
       "                                                      ...   \n",
       "ZIP CODE_11417                                         uint8\n",
       "ZIP CODE_11418                                         uint8\n",
       "ZIP CODE_11419                                         uint8\n",
       "ZIP CODE_11420                                         uint8\n",
       "ZIP CODE_11421                                         uint8\n",
       "ZIP CODE_11422                                         uint8\n",
       "ZIP CODE_11423                                         uint8\n",
       "ZIP CODE_11426                                         uint8\n",
       "ZIP CODE_11427                                         uint8\n",
       "ZIP CODE_11428                                         uint8\n",
       "ZIP CODE_11429                                         uint8\n",
       "ZIP CODE_11430                                         uint8\n",
       "ZIP CODE_11432                                         uint8\n",
       "ZIP CODE_11433                                         uint8\n",
       "ZIP CODE_11434                                         uint8\n",
       "ZIP CODE_11435                                         uint8\n",
       "ZIP CODE_11436                                         uint8\n",
       "ZIP CODE_11581                                         uint8\n",
       "ZIP CODE_11691                                         uint8\n",
       "ZIP CODE_11692                                         uint8\n",
       "ZIP CODE_11693                                         uint8\n",
       "ZIP CODE_11694                                         uint8\n",
       "ZIP CODE_11697                                         uint8\n",
       "ZIP CODE_16407                                         uint8\n",
       "ZIP CODE_35757                                         uint8\n",
       "BOROUGH_BRONX                                          uint8\n",
       "BOROUGH_BROOKLYN                                       uint8\n",
       "BOROUGH_MANHATTAN                                      uint8\n",
       "BOROUGH_QUEENS                                         uint8\n",
       "BOROUGH_STATEN ISLAND                                  uint8\n",
       "Length: 400, dtype: object"
      ]
     },
     "execution_count": 77,
     "metadata": {},
     "output_type": "execute_result"
    }
   ],
   "source": [
    "df6.dtypes"
   ]
  },
  {
   "cell_type": "code",
   "execution_count": 78,
   "metadata": {},
   "outputs": [
    {
     "data": {
      "text/html": [
       "<div>\n",
       "<style scoped>\n",
       "    .dataframe tbody tr th:only-of-type {\n",
       "        vertical-align: middle;\n",
       "    }\n",
       "\n",
       "    .dataframe tbody tr th {\n",
       "        vertical-align: top;\n",
       "    }\n",
       "\n",
       "    .dataframe thead th {\n",
       "        text-align: right;\n",
       "    }\n",
       "</style>\n",
       "<table border=\"1\" class=\"dataframe\">\n",
       "  <thead>\n",
       "    <tr style=\"text-align: right;\">\n",
       "      <th></th>\n",
       "      <th>LATITUDE</th>\n",
       "      <th>LONGITUDE</th>\n",
       "      <th>NUMBER OF PERSONS INJURED</th>\n",
       "      <th>NUMBER OF PERSONS KILLED</th>\n",
       "      <th>NUMBER OF PEDESTRIANS INJURED</th>\n",
       "      <th>NUMBER OF PEDESTRIANS KILLED</th>\n",
       "      <th>NUMBER OF CYCLIST INJURED</th>\n",
       "      <th>NUMBER OF CYCLIST KILLED</th>\n",
       "      <th>NUMBER OF MOTORIST INJURED</th>\n",
       "      <th>NUMBER OF MOTORIST KILLED</th>\n",
       "      <th>...</th>\n",
       "      <th>ZIP CODE_11693</th>\n",
       "      <th>ZIP CODE_11694</th>\n",
       "      <th>ZIP CODE_11697</th>\n",
       "      <th>ZIP CODE_16407</th>\n",
       "      <th>ZIP CODE_35757</th>\n",
       "      <th>BOROUGH_BRONX</th>\n",
       "      <th>BOROUGH_BROOKLYN</th>\n",
       "      <th>BOROUGH_MANHATTAN</th>\n",
       "      <th>BOROUGH_QUEENS</th>\n",
       "      <th>BOROUGH_STATEN ISLAND</th>\n",
       "    </tr>\n",
       "  </thead>\n",
       "  <tbody>\n",
       "    <tr>\n",
       "      <th>16</th>\n",
       "      <td>40.740532</td>\n",
       "      <td>-73.944510</td>\n",
       "      <td>0.0</td>\n",
       "      <td>0.0</td>\n",
       "      <td>0</td>\n",
       "      <td>0</td>\n",
       "      <td>0</td>\n",
       "      <td>0</td>\n",
       "      <td>0</td>\n",
       "      <td>0</td>\n",
       "      <td>...</td>\n",
       "      <td>0</td>\n",
       "      <td>0</td>\n",
       "      <td>0</td>\n",
       "      <td>0</td>\n",
       "      <td>0</td>\n",
       "      <td>0</td>\n",
       "      <td>0</td>\n",
       "      <td>0</td>\n",
       "      <td>0</td>\n",
       "      <td>0</td>\n",
       "    </tr>\n",
       "    <tr>\n",
       "      <th>20</th>\n",
       "      <td>40.614876</td>\n",
       "      <td>-73.932106</td>\n",
       "      <td>0.0</td>\n",
       "      <td>0.0</td>\n",
       "      <td>0</td>\n",
       "      <td>0</td>\n",
       "      <td>0</td>\n",
       "      <td>0</td>\n",
       "      <td>0</td>\n",
       "      <td>0</td>\n",
       "      <td>...</td>\n",
       "      <td>0</td>\n",
       "      <td>0</td>\n",
       "      <td>0</td>\n",
       "      <td>0</td>\n",
       "      <td>0</td>\n",
       "      <td>0</td>\n",
       "      <td>1</td>\n",
       "      <td>0</td>\n",
       "      <td>0</td>\n",
       "      <td>0</td>\n",
       "    </tr>\n",
       "    <tr>\n",
       "      <th>34</th>\n",
       "      <td>40.722305</td>\n",
       "      <td>-73.844140</td>\n",
       "      <td>0.0</td>\n",
       "      <td>0.0</td>\n",
       "      <td>0</td>\n",
       "      <td>0</td>\n",
       "      <td>0</td>\n",
       "      <td>0</td>\n",
       "      <td>0</td>\n",
       "      <td>0</td>\n",
       "      <td>...</td>\n",
       "      <td>0</td>\n",
       "      <td>0</td>\n",
       "      <td>0</td>\n",
       "      <td>0</td>\n",
       "      <td>0</td>\n",
       "      <td>0</td>\n",
       "      <td>0</td>\n",
       "      <td>0</td>\n",
       "      <td>0</td>\n",
       "      <td>0</td>\n",
       "    </tr>\n",
       "    <tr>\n",
       "      <th>36</th>\n",
       "      <td>40.676693</td>\n",
       "      <td>-73.742210</td>\n",
       "      <td>2.0</td>\n",
       "      <td>0.0</td>\n",
       "      <td>0</td>\n",
       "      <td>0</td>\n",
       "      <td>0</td>\n",
       "      <td>0</td>\n",
       "      <td>2</td>\n",
       "      <td>0</td>\n",
       "      <td>...</td>\n",
       "      <td>0</td>\n",
       "      <td>0</td>\n",
       "      <td>0</td>\n",
       "      <td>0</td>\n",
       "      <td>0</td>\n",
       "      <td>0</td>\n",
       "      <td>0</td>\n",
       "      <td>0</td>\n",
       "      <td>1</td>\n",
       "      <td>0</td>\n",
       "    </tr>\n",
       "    <tr>\n",
       "      <th>39</th>\n",
       "      <td>40.750890</td>\n",
       "      <td>-73.751130</td>\n",
       "      <td>0.0</td>\n",
       "      <td>0.0</td>\n",
       "      <td>0</td>\n",
       "      <td>0</td>\n",
       "      <td>0</td>\n",
       "      <td>0</td>\n",
       "      <td>0</td>\n",
       "      <td>0</td>\n",
       "      <td>...</td>\n",
       "      <td>0</td>\n",
       "      <td>0</td>\n",
       "      <td>0</td>\n",
       "      <td>0</td>\n",
       "      <td>0</td>\n",
       "      <td>0</td>\n",
       "      <td>0</td>\n",
       "      <td>0</td>\n",
       "      <td>0</td>\n",
       "      <td>0</td>\n",
       "    </tr>\n",
       "  </tbody>\n",
       "</table>\n",
       "<p>5 rows × 400 columns</p>\n",
       "</div>"
      ],
      "text/plain": [
       "     LATITUDE  LONGITUDE  NUMBER OF PERSONS INJURED  NUMBER OF PERSONS KILLED  \\\n",
       "16  40.740532 -73.944510                        0.0                       0.0   \n",
       "20  40.614876 -73.932106                        0.0                       0.0   \n",
       "34  40.722305 -73.844140                        0.0                       0.0   \n",
       "36  40.676693 -73.742210                        2.0                       0.0   \n",
       "39  40.750890 -73.751130                        0.0                       0.0   \n",
       "\n",
       "    NUMBER OF PEDESTRIANS INJURED  NUMBER OF PEDESTRIANS KILLED  \\\n",
       "16                              0                             0   \n",
       "20                              0                             0   \n",
       "34                              0                             0   \n",
       "36                              0                             0   \n",
       "39                              0                             0   \n",
       "\n",
       "    NUMBER OF CYCLIST INJURED  NUMBER OF CYCLIST KILLED  \\\n",
       "16                          0                         0   \n",
       "20                          0                         0   \n",
       "34                          0                         0   \n",
       "36                          0                         0   \n",
       "39                          0                         0   \n",
       "\n",
       "    NUMBER OF MOTORIST INJURED  NUMBER OF MOTORIST KILLED  \\\n",
       "16                           0                          0   \n",
       "20                           0                          0   \n",
       "34                           0                          0   \n",
       "36                           2                          0   \n",
       "39                           0                          0   \n",
       "\n",
       "            ...            ZIP CODE_11693  ZIP CODE_11694  ZIP CODE_11697  \\\n",
       "16          ...                         0               0               0   \n",
       "20          ...                         0               0               0   \n",
       "34          ...                         0               0               0   \n",
       "36          ...                         0               0               0   \n",
       "39          ...                         0               0               0   \n",
       "\n",
       "    ZIP CODE_16407  ZIP CODE_35757  BOROUGH_BRONX  BOROUGH_BROOKLYN  \\\n",
       "16               0               0              0                 0   \n",
       "20               0               0              0                 1   \n",
       "34               0               0              0                 0   \n",
       "36               0               0              0                 0   \n",
       "39               0               0              0                 0   \n",
       "\n",
       "    BOROUGH_MANHATTAN  BOROUGH_QUEENS  BOROUGH_STATEN ISLAND  \n",
       "16                  0               0                      0  \n",
       "20                  0               0                      0  \n",
       "34                  0               0                      0  \n",
       "36                  0               1                      0  \n",
       "39                  0               0                      0  \n",
       "\n",
       "[5 rows x 400 columns]"
      ]
     },
     "execution_count": 78,
     "metadata": {},
     "output_type": "execute_result"
    }
   ],
   "source": [
    "df6.head()"
   ]
  },
  {
   "cell_type": "code",
   "execution_count": 79,
   "metadata": {},
   "outputs": [
    {
     "data": {
      "text/plain": [
       "(42021, 400)"
      ]
     },
     "execution_count": 79,
     "metadata": {},
     "output_type": "execute_result"
    }
   ],
   "source": [
    "df6 = df6.dropna()\n",
    "df6.shape"
   ]
  },
  {
   "cell_type": "code",
   "execution_count": 80,
   "metadata": {},
   "outputs": [],
   "source": [
    "df6.to_csv('data.v1.8.csv', index=False)"
   ]
  },
  {
   "cell_type": "code",
   "execution_count": 81,
   "metadata": {},
   "outputs": [
    {
     "data": {
      "text/plain": [
       "(42021, 400)"
      ]
     },
     "execution_count": 81,
     "metadata": {},
     "output_type": "execute_result"
    }
   ],
   "source": [
    "df6.shape"
   ]
  },
  {
   "cell_type": "code",
   "execution_count": null,
   "metadata": {},
   "outputs": [],
   "source": []
  }
 ],
 "metadata": {
  "kernelspec": {
   "display_name": "Python 3",
   "language": "python",
   "name": "python3"
  },
  "language_info": {
   "codemirror_mode": {
    "name": "ipython",
    "version": 3
   },
   "file_extension": ".py",
   "mimetype": "text/x-python",
   "name": "python",
   "nbconvert_exporter": "python",
   "pygments_lexer": "ipython3",
   "version": "3.6.5"
  }
 },
 "nbformat": 4,
 "nbformat_minor": 2
}
