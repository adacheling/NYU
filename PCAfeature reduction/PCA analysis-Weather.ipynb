{
 "cells": [
  {
   "cell_type": "code",
   "execution_count": 1,
   "metadata": {},
   "outputs": [],
   "source": [
    "import pandas as pd\n",
    "import numpy as np\n",
    "from numpy import *\n",
    "import os\n",
    "import sys\n",
    "import seaborn as sns\n",
    "from matplotlib import pyplot as plt"
   ]
  },
  {
   "cell_type": "code",
   "execution_count": 2,
   "metadata": {},
   "outputs": [],
   "source": [
    "df = pd.read_csv('Modified data.csv')"
   ]
  },
  {
   "cell_type": "code",
   "execution_count": 3,
   "metadata": {},
   "outputs": [],
   "source": [
    "def convert_temp(tem):\n",
    "    try:\n",
    "        ans = float(tem)\n",
    "        return ans\n",
    "    except:\n",
    "        return np.nan"
   ]
  },
  {
   "cell_type": "code",
   "execution_count": 4,
   "metadata": {},
   "outputs": [],
   "source": [
    "df['TEMPRETURE'] = df['TEMPRETURE'].map(convert_temp)\n",
    "# df_weather['DEW'] = df_weather['DEW'].map(convert_temp)"
   ]
  },
  {
   "cell_type": "code",
   "execution_count": 5,
   "metadata": {},
   "outputs": [],
   "source": [
    "df.replace('- -', '')\n",
    "df.dropna()\n",
    "#df =  df.apply(pd.to_numeric)\n",
    "for column in df:\n",
    "    df[column] = df[column].map(convert_temp)"
   ]
  },
  {
   "cell_type": "code",
   "execution_count": 6,
   "metadata": {},
   "outputs": [
    {
     "data": {
      "text/plain": [
       "['TIME',\n",
       " 'NUMBER OF PERSONS INJURED',\n",
       " 'NUMBER OF PERSONS KILLED',\n",
       " 'NUMBER OF PEDESTRIANS INJURED',\n",
       " 'NUMBER OF PEDESTRIANS KILLED',\n",
       " 'NUMBER OF CYCLIST INJURED',\n",
       " 'NUMBER OF CYCLIST KILLED',\n",
       " 'NUMBER OF MOTORIST INJURED',\n",
       " 'NUMBER OF MOTORIST KILLED',\n",
       " 'CONTRIBUTING FACTOR VEHICLE 1',\n",
       " 'day_of_week',\n",
       " 'weeekday',\n",
       " 'date',\n",
       " 'month',\n",
       " 'TEMPRETURE',\n",
       " 'DEW',\n",
       " 'PRECIPITATION',\n",
       " 'RH',\n",
       " 'WIND SPD',\n",
       " 'WIND DIR']"
      ]
     },
     "execution_count": 6,
     "metadata": {},
     "output_type": "execute_result"
    }
   ],
   "source": [
    "list(df.columns.values)"
   ]
  },
  {
   "cell_type": "code",
   "execution_count": 7,
   "metadata": {},
   "outputs": [],
   "source": [
    "features = ['TIME',\n",
    " 'NUMBER OF PERSONS INJURED',\n",
    " 'NUMBER OF PERSONS KILLED',\n",
    " 'NUMBER OF PEDESTRIANS INJURED',\n",
    " 'NUMBER OF PEDESTRIANS KILLED',\n",
    " 'NUMBER OF CYCLIST INJURED',\n",
    " 'NUMBER OF CYCLIST KILLED',\n",
    " 'NUMBER OF MOTORIST INJURED',\n",
    " 'NUMBER OF MOTORIST KILLED',\n",
    " 'day_of_week',\n",
    " 'weekday',\n",
    " 'date',\n",
    " 'month',\n",
    " 'TEMPRETURE',\n",
    " 'DEW',\n",
    " 'PRECIPITATION',\n",
    " 'RH',\n",
    " 'WIND SPD',\n",
    " 'WIND DIR']"
   ]
  },
  {
   "cell_type": "code",
   "execution_count": 8,
   "metadata": {},
   "outputs": [],
   "source": [
    "features1 = [ 'NUMBER OF PERSONS KILLED',\n",
    " 'NUMBER OF PEDESTRIANS KILLED',\n",
    " 'NUMBER OF CYCLIST KILLED',\n",
    " 'NUMBER OF MOTORIST KILLED']"
   ]
  },
  {
   "cell_type": "code",
   "execution_count": 9,
   "metadata": {},
   "outputs": [],
   "source": [
    "where_are_NaNs = isnan(df)\n",
    "df[where_are_NaNs] = 0"
   ]
  },
  {
   "cell_type": "code",
   "execution_count": 10,
   "metadata": {},
   "outputs": [],
   "source": [
    "from sklearn.preprocessing import StandardScaler\n",
    "features = list(df.columns.values)\n",
    "# Separating out the features\n",
    "x = df.loc[:, features1].values\n",
    "# Separating out the target\n",
    "y = df.loc[:,['CONTRIBUTING FACTOR VEHICLE 1']].values\n",
    "# Standardizing the features\n",
    "x = StandardScaler().fit_transform(x)"
   ]
  },
  {
   "cell_type": "code",
   "execution_count": 11,
   "metadata": {},
   "outputs": [],
   "source": [
    "where_are_NaNs = isnan(x)\n",
    "x[where_are_NaNs] = 0"
   ]
  },
  {
   "cell_type": "code",
   "execution_count": 12,
   "metadata": {},
   "outputs": [],
   "source": [
    "from sklearn.decomposition import PCA\n",
    "pca = PCA(n_components=2)\n",
    "principalComponents = pca.fit_transform(x)\n",
    "principalDf = pd.DataFrame(data = principalComponents\n",
    "             , columns = ['principal component 1', 'principal component 2'])"
   ]
  },
  {
   "cell_type": "code",
   "execution_count": 13,
   "metadata": {},
   "outputs": [],
   "source": [
    "finalDf = pd.concat([principalDf, df[['CONTRIBUTING FACTOR VEHICLE 1']]], axis = 1)"
   ]
  },
  {
   "cell_type": "code",
   "execution_count": 14,
   "metadata": {},
   "outputs": [],
   "source": [
    "finalDf = finalDf.round(4)"
   ]
  },
  {
   "cell_type": "code",
   "execution_count": 15,
   "metadata": {},
   "outputs": [
    {
     "data": {
      "image/png": "[encoded data removed]",
      "text/plain": [
       "<Figure size 576x576 with 1 Axes>"
      ]
     },
     "metadata": {
      "needs_background": "light"
     },
     "output_type": "display_data"
    }
   ],
   "source": [
    "fig = plt.figure(figsize = (8,8))\n",
    "ax = fig.add_subplot(1,1,1) \n",
    "ax.set_xlabel('Principal Component 1', fontsize = 15)\n",
    "ax.set_ylabel('Principal Component 2', fontsize = 15)\n",
    "ax.set_title('2 component PCA', fontsize = 20)\n",
    "targets = [0, 1, 2, 3]\n",
    "colors = ['r', 'g', 'b', 'grey']\n",
    "for target, color in zip(targets,colors):\n",
    "    indicesToKeep = finalDf['CONTRIBUTING FACTOR VEHICLE 1'] == target\n",
    "    ax.scatter(finalDf.loc[indicesToKeep, 'principal component 1']\n",
    "               , finalDf.loc[indicesToKeep, 'principal component 2']\n",
    "               , c = color\n",
    "               , s = 50)\n",
    "ax.legend(targets)\n",
    "ax.grid()"
   ]
  },
  {
   "cell_type": "code",
   "execution_count": null,
   "metadata": {},
   "outputs": [],
   "source": []
  }
 ],
 "metadata": {
  "kernelspec": {
   "display_name": "Python 3",
   "language": "python",
   "name": "python3"
  },
  "language_info": {
   "codemirror_mode": {
    "name": "ipython",
    "version": 3
   },
   "file_extension": ".py",
   "mimetype": "text/x-python",
   "name": "python",
   "nbconvert_exporter": "python",
   "pygments_lexer": "ipython3",
   "version": "3.7.0"
  }
 },
 "nbformat": 4,
 "nbformat_minor": 2
}
